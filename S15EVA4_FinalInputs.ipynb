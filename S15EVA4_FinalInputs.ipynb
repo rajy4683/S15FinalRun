{
  "nbformat": 4,
  "nbformat_minor": 0,
  "metadata": {
    "colab": {
      "name": "S15EVA4_FinalInputs.ipynb",
      "provenance": [],
      "collapsed_sections": [],
      "toc_visible": true,
      "include_colab_link": true
    },
    "kernelspec": {
      "name": "python3",
      "display_name": "Python 3"
    },
    "accelerator": "GPU",
    "widgets": {
      "application/vnd.jupyter.widget-state+json": {
        "4f0a319f45764e6380ee8d8f49c06824": {
          "model_module": "@jupyter-widgets/controls",
          "model_name": "HBoxModel",
          "state": {
            "_view_name": "HBoxView",
            "_dom_classes": [],
            "_model_name": "HBoxModel",
            "_view_module": "@jupyter-widgets/controls",
            "_model_module_version": "1.5.0",
            "_view_count": null,
            "_view_module_version": "1.5.0",
            "box_style": "",
            "layout": "IPY_MODEL_83a4902b6355404a9bd76a6870e419fd",
            "_model_module": "@jupyter-widgets/controls",
            "children": [
              "IPY_MODEL_758a7adc0e1d49df84b70b664028d78f",
              "IPY_MODEL_b8cc691f28be435b8e9c0b349c4cb504"
            ]
          }
        },
        "83a4902b6355404a9bd76a6870e419fd": {
          "model_module": "@jupyter-widgets/base",
          "model_name": "LayoutModel",
          "state": {
            "_view_name": "LayoutView",
            "grid_template_rows": null,
            "right": null,
            "justify_content": null,
            "_view_module": "@jupyter-widgets/base",
            "overflow": null,
            "_model_module_version": "1.2.0",
            "_view_count": null,
            "flex_flow": null,
            "width": null,
            "min_width": null,
            "border": null,
            "align_items": null,
            "bottom": null,
            "_model_module": "@jupyter-widgets/base",
            "top": null,
            "grid_column": null,
            "overflow_y": null,
            "overflow_x": null,
            "grid_auto_flow": null,
            "grid_area": null,
            "grid_template_columns": null,
            "flex": null,
            "_model_name": "LayoutModel",
            "justify_items": null,
            "grid_row": null,
            "max_height": null,
            "align_content": null,
            "visibility": null,
            "align_self": null,
            "height": null,
            "min_height": null,
            "padding": null,
            "grid_auto_rows": null,
            "grid_gap": null,
            "max_width": null,
            "order": null,
            "_view_module_version": "1.2.0",
            "grid_template_areas": null,
            "object_position": null,
            "object_fit": null,
            "grid_auto_columns": null,
            "margin": null,
            "display": null,
            "left": null
          }
        },
        "758a7adc0e1d49df84b70b664028d78f": {
          "model_module": "@jupyter-widgets/controls",
          "model_name": "FloatProgressModel",
          "state": {
            "_view_name": "ProgressView",
            "style": "IPY_MODEL_5900e941d80a43628e41640d61d42978",
            "_dom_classes": [],
            "description": "100%",
            "_model_name": "FloatProgressModel",
            "bar_style": "success",
            "max": 100,
            "_view_module": "@jupyter-widgets/controls",
            "_model_module_version": "1.5.0",
            "value": 100,
            "_view_count": null,
            "_view_module_version": "1.5.0",
            "orientation": "horizontal",
            "min": 0,
            "description_tooltip": null,
            "_model_module": "@jupyter-widgets/controls",
            "layout": "IPY_MODEL_52f7951df00d4ea497965160e2abbbf0"
          }
        },
        "b8cc691f28be435b8e9c0b349c4cb504": {
          "model_module": "@jupyter-widgets/controls",
          "model_name": "HTMLModel",
          "state": {
            "_view_name": "HTMLView",
            "style": "IPY_MODEL_4c19ef9a69f8423aaf5268342b6dc83c",
            "_dom_classes": [],
            "description": "",
            "_model_name": "HTMLModel",
            "placeholder": "​",
            "_view_module": "@jupyter-widgets/controls",
            "_model_module_version": "1.5.0",
            "value": " 100/100 [4:37:47&lt;00:00, 166.68s/it]",
            "_view_count": null,
            "_view_module_version": "1.5.0",
            "description_tooltip": null,
            "_model_module": "@jupyter-widgets/controls",
            "layout": "IPY_MODEL_7076ad34e21d4115a9b2ead8adc381f5"
          }
        },
        "5900e941d80a43628e41640d61d42978": {
          "model_module": "@jupyter-widgets/controls",
          "model_name": "ProgressStyleModel",
          "state": {
            "_view_name": "StyleView",
            "_model_name": "ProgressStyleModel",
            "description_width": "initial",
            "_view_module": "@jupyter-widgets/base",
            "_model_module_version": "1.5.0",
            "_view_count": null,
            "_view_module_version": "1.2.0",
            "bar_color": null,
            "_model_module": "@jupyter-widgets/controls"
          }
        },
        "52f7951df00d4ea497965160e2abbbf0": {
          "model_module": "@jupyter-widgets/base",
          "model_name": "LayoutModel",
          "state": {
            "_view_name": "LayoutView",
            "grid_template_rows": null,
            "right": null,
            "justify_content": null,
            "_view_module": "@jupyter-widgets/base",
            "overflow": null,
            "_model_module_version": "1.2.0",
            "_view_count": null,
            "flex_flow": null,
            "width": null,
            "min_width": null,
            "border": null,
            "align_items": null,
            "bottom": null,
            "_model_module": "@jupyter-widgets/base",
            "top": null,
            "grid_column": null,
            "overflow_y": null,
            "overflow_x": null,
            "grid_auto_flow": null,
            "grid_area": null,
            "grid_template_columns": null,
            "flex": null,
            "_model_name": "LayoutModel",
            "justify_items": null,
            "grid_row": null,
            "max_height": null,
            "align_content": null,
            "visibility": null,
            "align_self": null,
            "height": null,
            "min_height": null,
            "padding": null,
            "grid_auto_rows": null,
            "grid_gap": null,
            "max_width": null,
            "order": null,
            "_view_module_version": "1.2.0",
            "grid_template_areas": null,
            "object_position": null,
            "object_fit": null,
            "grid_auto_columns": null,
            "margin": null,
            "display": null,
            "left": null
          }
        },
        "4c19ef9a69f8423aaf5268342b6dc83c": {
          "model_module": "@jupyter-widgets/controls",
          "model_name": "DescriptionStyleModel",
          "state": {
            "_view_name": "StyleView",
            "_model_name": "DescriptionStyleModel",
            "description_width": "",
            "_view_module": "@jupyter-widgets/base",
            "_model_module_version": "1.5.0",
            "_view_count": null,
            "_view_module_version": "1.2.0",
            "_model_module": "@jupyter-widgets/controls"
          }
        },
        "7076ad34e21d4115a9b2ead8adc381f5": {
          "model_module": "@jupyter-widgets/base",
          "model_name": "LayoutModel",
          "state": {
            "_view_name": "LayoutView",
            "grid_template_rows": null,
            "right": null,
            "justify_content": null,
            "_view_module": "@jupyter-widgets/base",
            "overflow": null,
            "_model_module_version": "1.2.0",
            "_view_count": null,
            "flex_flow": null,
            "width": null,
            "min_width": null,
            "border": null,
            "align_items": null,
            "bottom": null,
            "_model_module": "@jupyter-widgets/base",
            "top": null,
            "grid_column": null,
            "overflow_y": null,
            "overflow_x": null,
            "grid_auto_flow": null,
            "grid_area": null,
            "grid_template_columns": null,
            "flex": null,
            "_model_name": "LayoutModel",
            "justify_items": null,
            "grid_row": null,
            "max_height": null,
            "align_content": null,
            "visibility": null,
            "align_self": null,
            "height": null,
            "min_height": null,
            "padding": null,
            "grid_auto_rows": null,
            "grid_gap": null,
            "max_width": null,
            "order": null,
            "_view_module_version": "1.2.0",
            "grid_template_areas": null,
            "object_position": null,
            "object_fit": null,
            "grid_auto_columns": null,
            "margin": null,
            "display": null,
            "left": null
          }
        }
      }
    }
  },
  "cells": [
    {
      "cell_type": "markdown",
      "metadata": {
        "id": "view-in-github",
        "colab_type": "text"
      },
      "source": [
        "<a href=\"https://colab.research.google.com/github/rajy4683/S15FinalRun/blob/master/S15EVA4_FinalInputs.ipynb\" target=\"_parent\"><img src=\"https://colab.research.google.com/assets/colab-badge.svg\" alt=\"Open In Colab\"/></a>"
      ]
    },
    {
      "cell_type": "code",
      "metadata": {
        "id": "kSuQTF6LZ-EW",
        "colab_type": "code",
        "outputId": "0ad061d8-fb25-4be5-a74a-1fe32b880af2",
        "colab": {
          "base_uri": "https://localhost:8080/",
          "height": 302
        }
      },
      "source": [
        "!nvidia-smi"
      ],
      "execution_count": 1,
      "outputs": [
        {
          "output_type": "stream",
          "text": [
            "Mon May 25 15:20:44 2020       \n",
            "+-----------------------------------------------------------------------------+\n",
            "| NVIDIA-SMI 440.82       Driver Version: 418.67       CUDA Version: 10.1     |\n",
            "|-------------------------------+----------------------+----------------------+\n",
            "| GPU  Name        Persistence-M| Bus-Id        Disp.A | Volatile Uncorr. ECC |\n",
            "| Fan  Temp  Perf  Pwr:Usage/Cap|         Memory-Usage | GPU-Util  Compute M. |\n",
            "|===============================+======================+======================|\n",
            "|   0  Tesla P100-PCIE...  Off  | 00000000:00:04.0 Off |                    0 |\n",
            "| N/A   33C    P0    25W / 250W |      0MiB / 16280MiB |      0%      Default |\n",
            "+-------------------------------+----------------------+----------------------+\n",
            "                                                                               \n",
            "+-----------------------------------------------------------------------------+\n",
            "| Processes:                                                       GPU Memory |\n",
            "|  GPU       PID   Type   Process name                             Usage      |\n",
            "|=============================================================================|\n",
            "|  No running processes found                                                 |\n",
            "+-----------------------------------------------------------------------------+\n"
          ],
          "name": "stdout"
        }
      ]
    },
    {
      "cell_type": "code",
      "metadata": {
        "id": "TkeUIDcSJXUE",
        "colab_type": "code",
        "outputId": "2ca8bb08-1c81-4415-cb2b-3afa78718314",
        "colab": {
          "base_uri": "https://localhost:8080/",
          "height": 121
        }
      },
      "source": [
        "from google.colab import drive\n",
        "drive.mount('/content/drive', force_remount=True)\n",
        "\n",
        "import sys"
      ],
      "execution_count": 2,
      "outputs": [
        {
          "output_type": "stream",
          "text": [
            "Go to this URL in a browser: https://accounts.google.com/o/oauth2/auth?client_id=947318989803-6bn6qk8qdgf4n4g3pfee6491hc0brc4i.apps.googleusercontent.com&redirect_uri=urn%3aietf%3awg%3aoauth%3a2.0%3aoob&response_type=code&scope=email%20https%3a%2f%2fwww.googleapis.com%2fauth%2fdocs.test%20https%3a%2f%2fwww.googleapis.com%2fauth%2fdrive%20https%3a%2f%2fwww.googleapis.com%2fauth%2fdrive.photos.readonly%20https%3a%2f%2fwww.googleapis.com%2fauth%2fpeopleapi.readonly\n",
            "\n",
            "Enter your authorization code:\n",
            "··········\n",
            "Mounted at /content/drive\n"
          ],
          "name": "stdout"
        }
      ]
    },
    {
      "cell_type": "code",
      "metadata": {
        "id": "HIVLSOGS892D",
        "colab_type": "code",
        "colab": {}
      },
      "source": [
        "sys.path.append('/content/drive/My Drive/EVA4/RekogNizer')\n",
        "sys.path.append('/content/drive/My Drive/EVA4')\n",
        "sys.path.append('/content/drive/My Drive/EVA4/DenseDepth')"
      ],
      "execution_count": 0,
      "outputs": []
    },
    {
      "cell_type": "markdown",
      "metadata": {
        "id": "p5sd4efFT2AF",
        "colab_type": "text"
      },
      "source": [
        "### Dependencies\n"
      ]
    },
    {
      "cell_type": "code",
      "metadata": {
        "id": "M5CIVlNHJeJI",
        "colab_type": "code",
        "outputId": "802f3d42-deb5-4b8c-f404-a555f94f1126",
        "colab": {
          "base_uri": "https://localhost:8080/",
          "height": 1000
        }
      },
      "source": [
        "!pip install -r /content/drive/My\\ Drive/EVA4/RekogNizer/requirements.txt"
      ],
      "execution_count": 4,
      "outputs": [
        {
          "output_type": "stream",
          "text": [
            "Collecting pytorch-ignite\n",
            "\u001b[?25l  Downloading https://files.pythonhosted.org/packages/35/55/41e8a995876fd2ade29bdba0c3efefa38e7d605cb353c70f3173c04928b5/pytorch_ignite-0.3.0-py2.py3-none-any.whl (103kB)\n",
            "\r\u001b[K     |███▏                            | 10kB 20.6MB/s eta 0:00:01\r\u001b[K     |██████▎                         | 20kB 1.5MB/s eta 0:00:01\r\u001b[K     |█████████▌                      | 30kB 1.8MB/s eta 0:00:01\r\u001b[K     |████████████▋                   | 40kB 2.1MB/s eta 0:00:01\r\u001b[K     |███████████████▉                | 51kB 1.9MB/s eta 0:00:01\r\u001b[K     |███████████████████             | 61kB 2.1MB/s eta 0:00:01\r\u001b[K     |██████████████████████▏         | 71kB 2.3MB/s eta 0:00:01\r\u001b[K     |█████████████████████████▎      | 81kB 2.5MB/s eta 0:00:01\r\u001b[K     |████████████████████████████▍   | 92kB 2.7MB/s eta 0:00:01\r\u001b[K     |███████████████████████████████▋| 102kB 2.7MB/s eta 0:00:01\r\u001b[K     |████████████████████████████████| 112kB 2.7MB/s \n",
            "\u001b[?25hRequirement already satisfied: torchsummary in /usr/local/lib/python3.6/dist-packages (from -r /content/drive/My Drive/EVA4/RekogNizer/requirements.txt (line 2)) (1.5.1)\n",
            "Collecting wandb\n",
            "\u001b[?25l  Downloading https://files.pythonhosted.org/packages/d1/c7/8bf2c62c3f133f45e135a8a116e4e0f162043248e3db54de30996eaf1a8a/wandb-0.8.36-py2.py3-none-any.whl (1.4MB)\n",
            "\u001b[K     |████████████████████████████████| 1.4MB 4.8MB/s \n",
            "\u001b[?25hRequirement already satisfied: numpy in /usr/local/lib/python3.6/dist-packages (from -r /content/drive/My Drive/EVA4/RekogNizer/requirements.txt (line 5)) (1.18.4)\n",
            "Requirement already satisfied: torch in /usr/local/lib/python3.6/dist-packages (from -r /content/drive/My Drive/EVA4/RekogNizer/requirements.txt (line 6)) (1.5.0+cu101)\n",
            "Requirement already satisfied: torchvision in /usr/local/lib/python3.6/dist-packages (from -r /content/drive/My Drive/EVA4/RekogNizer/requirements.txt (line 7)) (0.6.0+cu101)\n",
            "Requirement already satisfied: matplotlib in /usr/local/lib/python3.6/dist-packages (from -r /content/drive/My Drive/EVA4/RekogNizer/requirements.txt (line 8)) (3.2.1)\n",
            "Requirement already satisfied: albumentations in /usr/local/lib/python3.6/dist-packages (from -r /content/drive/My Drive/EVA4/RekogNizer/requirements.txt (line 9)) (0.1.12)\n",
            "Collecting kornia\n",
            "\u001b[?25l  Downloading https://files.pythonhosted.org/packages/c2/60/f0c174c4a2a40b10b04b37c43f5afee3701cc145b48441a2dc5cf9286c3c/kornia-0.3.1-py2.py3-none-any.whl (158kB)\n",
            "\u001b[K     |████████████████████████████████| 163kB 13.0MB/s \n",
            "\u001b[?25hCollecting sentry-sdk>=0.4.0\n",
            "\u001b[?25l  Downloading https://files.pythonhosted.org/packages/1b/95/9a20eebcedab2c1c63fad59fe19a0469edfc2a25b8576497e8084629c2ff/sentry_sdk-0.14.4-py2.py3-none-any.whl (104kB)\n",
            "\u001b[K     |████████████████████████████████| 112kB 12.3MB/s \n",
            "\u001b[?25hRequirement already satisfied: requests>=2.0.0 in /usr/local/lib/python3.6/dist-packages (from wandb->-r /content/drive/My Drive/EVA4/RekogNizer/requirements.txt (line 3)) (2.23.0)\n",
            "Requirement already satisfied: psutil>=5.0.0 in /usr/local/lib/python3.6/dist-packages (from wandb->-r /content/drive/My Drive/EVA4/RekogNizer/requirements.txt (line 3)) (5.4.8)\n",
            "Collecting subprocess32>=3.5.3\n",
            "\u001b[?25l  Downloading https://files.pythonhosted.org/packages/32/c8/564be4d12629b912ea431f1a50eb8b3b9d00f1a0b1ceff17f266be190007/subprocess32-3.5.4.tar.gz (97kB)\n",
            "\u001b[K     |████████████████████████████████| 102kB 7.0MB/s \n",
            "\u001b[?25hCollecting configparser>=3.8.1\n",
            "  Downloading https://files.pythonhosted.org/packages/4b/6b/01baa293090240cf0562cc5eccb69c6f5006282127f2b846fad011305c79/configparser-5.0.0-py3-none-any.whl\n",
            "Requirement already satisfied: Click>=7.0 in /usr/local/lib/python3.6/dist-packages (from wandb->-r /content/drive/My Drive/EVA4/RekogNizer/requirements.txt (line 3)) (7.1.2)\n",
            "Requirement already satisfied: six>=1.10.0 in /usr/local/lib/python3.6/dist-packages (from wandb->-r /content/drive/My Drive/EVA4/RekogNizer/requirements.txt (line 3)) (1.12.0)\n",
            "Collecting watchdog>=0.8.3\n",
            "\u001b[?25l  Downloading https://files.pythonhosted.org/packages/73/c3/ed6d992006837e011baca89476a4bbffb0a91602432f73bd4473816c76e2/watchdog-0.10.2.tar.gz (95kB)\n",
            "\u001b[K     |████████████████████████████████| 102kB 7.8MB/s \n",
            "\u001b[?25hCollecting GitPython>=1.0.0\n",
            "\u001b[?25l  Downloading https://files.pythonhosted.org/packages/44/33/917e6fde1cad13daa7053f39b7c8af3be287314f75f1b1ea8d3fe37a8571/GitPython-3.1.2-py3-none-any.whl (451kB)\n",
            "\u001b[K     |████████████████████████████████| 460kB 11.9MB/s \n",
            "\u001b[?25hRequirement already satisfied: python-dateutil>=2.6.1 in /usr/local/lib/python3.6/dist-packages (from wandb->-r /content/drive/My Drive/EVA4/RekogNizer/requirements.txt (line 3)) (2.8.1)\n",
            "Collecting shortuuid>=0.5.0\n",
            "  Downloading https://files.pythonhosted.org/packages/25/a6/2ecc1daa6a304e7f1b216f0896b26156b78e7c38e1211e9b798b4716c53d/shortuuid-1.0.1-py3-none-any.whl\n",
            "Requirement already satisfied: nvidia-ml-py3>=7.352.0 in /usr/local/lib/python3.6/dist-packages (from wandb->-r /content/drive/My Drive/EVA4/RekogNizer/requirements.txt (line 3)) (7.352.0)\n",
            "Requirement already satisfied: PyYAML>=3.10 in /usr/local/lib/python3.6/dist-packages (from wandb->-r /content/drive/My Drive/EVA4/RekogNizer/requirements.txt (line 3)) (3.13)\n",
            "Collecting gql==0.2.0\n",
            "  Downloading https://files.pythonhosted.org/packages/c4/6f/cf9a3056045518f06184e804bae89390eb706168349daa9dff8ac609962a/gql-0.2.0.tar.gz\n",
            "Collecting docker-pycreds>=0.4.0\n",
            "  Downloading https://files.pythonhosted.org/packages/f5/e8/f6bd1eee09314e7e6dee49cbe2c5e22314ccdb38db16c9fc72d2fa80d054/docker_pycreds-0.4.0-py2.py3-none-any.whl\n",
            "Requirement already satisfied: future in /usr/local/lib/python3.6/dist-packages (from torch->-r /content/drive/My Drive/EVA4/RekogNizer/requirements.txt (line 6)) (0.16.0)\n",
            "Requirement already satisfied: pillow>=4.1.1 in /usr/local/lib/python3.6/dist-packages (from torchvision->-r /content/drive/My Drive/EVA4/RekogNizer/requirements.txt (line 7)) (7.0.0)\n",
            "Requirement already satisfied: cycler>=0.10 in /usr/local/lib/python3.6/dist-packages (from matplotlib->-r /content/drive/My Drive/EVA4/RekogNizer/requirements.txt (line 8)) (0.10.0)\n",
            "Requirement already satisfied: pyparsing!=2.0.4,!=2.1.2,!=2.1.6,>=2.0.1 in /usr/local/lib/python3.6/dist-packages (from matplotlib->-r /content/drive/My Drive/EVA4/RekogNizer/requirements.txt (line 8)) (2.4.7)\n",
            "Requirement already satisfied: kiwisolver>=1.0.1 in /usr/local/lib/python3.6/dist-packages (from matplotlib->-r /content/drive/My Drive/EVA4/RekogNizer/requirements.txt (line 8)) (1.2.0)\n",
            "Requirement already satisfied: scipy in /usr/local/lib/python3.6/dist-packages (from albumentations->-r /content/drive/My Drive/EVA4/RekogNizer/requirements.txt (line 9)) (1.4.1)\n",
            "Collecting imgaug<0.2.7,>=0.2.5\n",
            "\u001b[?25l  Downloading https://files.pythonhosted.org/packages/ad/2e/748dbb7bb52ec8667098bae9b585f448569ae520031932687761165419a2/imgaug-0.2.6.tar.gz (631kB)\n",
            "\u001b[K     |████████████████████████████████| 634kB 16.2MB/s \n",
            "\u001b[?25hRequirement already satisfied: opencv-python in /usr/local/lib/python3.6/dist-packages (from albumentations->-r /content/drive/My Drive/EVA4/RekogNizer/requirements.txt (line 9)) (4.1.2.30)\n",
            "Requirement already satisfied: urllib3>=1.10.0 in /usr/local/lib/python3.6/dist-packages (from sentry-sdk>=0.4.0->wandb->-r /content/drive/My Drive/EVA4/RekogNizer/requirements.txt (line 3)) (1.24.3)\n",
            "Requirement already satisfied: certifi in /usr/local/lib/python3.6/dist-packages (from sentry-sdk>=0.4.0->wandb->-r /content/drive/My Drive/EVA4/RekogNizer/requirements.txt (line 3)) (2020.4.5.1)\n",
            "Requirement already satisfied: chardet<4,>=3.0.2 in /usr/local/lib/python3.6/dist-packages (from requests>=2.0.0->wandb->-r /content/drive/My Drive/EVA4/RekogNizer/requirements.txt (line 3)) (3.0.4)\n",
            "Requirement already satisfied: idna<3,>=2.5 in /usr/local/lib/python3.6/dist-packages (from requests>=2.0.0->wandb->-r /content/drive/My Drive/EVA4/RekogNizer/requirements.txt (line 3)) (2.9)\n",
            "Collecting pathtools>=0.1.1\n",
            "  Downloading https://files.pythonhosted.org/packages/e7/7f/470d6fcdf23f9f3518f6b0b76be9df16dcc8630ad409947f8be2eb0ed13a/pathtools-0.1.2.tar.gz\n",
            "Collecting gitdb<5,>=4.0.1\n",
            "\u001b[?25l  Downloading https://files.pythonhosted.org/packages/48/11/d1800bca0a3bae820b84b7d813ad1eff15a48a64caea9c823fc8c1b119e8/gitdb-4.0.5-py3-none-any.whl (63kB)\n",
            "\u001b[K     |████████████████████████████████| 71kB 8.3MB/s \n",
            "\u001b[?25hCollecting graphql-core<2,>=0.5.0\n",
            "\u001b[?25l  Downloading https://files.pythonhosted.org/packages/b0/89/00ad5e07524d8c523b14d70c685e0299a8b0de6d0727e368c41b89b7ed0b/graphql-core-1.1.tar.gz (70kB)\n",
            "\u001b[K     |████████████████████████████████| 71kB 6.9MB/s \n",
            "\u001b[?25hRequirement already satisfied: promise<3,>=2.0 in /usr/local/lib/python3.6/dist-packages (from gql==0.2.0->wandb->-r /content/drive/My Drive/EVA4/RekogNizer/requirements.txt (line 3)) (2.3)\n",
            "Requirement already satisfied: scikit-image>=0.11.0 in /usr/local/lib/python3.6/dist-packages (from imgaug<0.2.7,>=0.2.5->albumentations->-r /content/drive/My Drive/EVA4/RekogNizer/requirements.txt (line 9)) (0.16.2)\n",
            "Collecting smmap<4,>=3.0.1\n",
            "  Downloading https://files.pythonhosted.org/packages/b0/9a/4d409a6234eb940e6a78dfdfc66156e7522262f5f2fecca07dc55915952d/smmap-3.0.4-py2.py3-none-any.whl\n",
            "Requirement already satisfied: imageio>=2.3.0 in /usr/local/lib/python3.6/dist-packages (from scikit-image>=0.11.0->imgaug<0.2.7,>=0.2.5->albumentations->-r /content/drive/My Drive/EVA4/RekogNizer/requirements.txt (line 9)) (2.4.1)\n",
            "Requirement already satisfied: PyWavelets>=0.4.0 in /usr/local/lib/python3.6/dist-packages (from scikit-image>=0.11.0->imgaug<0.2.7,>=0.2.5->albumentations->-r /content/drive/My Drive/EVA4/RekogNizer/requirements.txt (line 9)) (1.1.1)\n",
            "Requirement already satisfied: networkx>=2.0 in /usr/local/lib/python3.6/dist-packages (from scikit-image>=0.11.0->imgaug<0.2.7,>=0.2.5->albumentations->-r /content/drive/My Drive/EVA4/RekogNizer/requirements.txt (line 9)) (2.4)\n",
            "Requirement already satisfied: decorator>=4.3.0 in /usr/local/lib/python3.6/dist-packages (from networkx>=2.0->scikit-image>=0.11.0->imgaug<0.2.7,>=0.2.5->albumentations->-r /content/drive/My Drive/EVA4/RekogNizer/requirements.txt (line 9)) (4.4.2)\n",
            "Building wheels for collected packages: subprocess32, watchdog, gql, imgaug, pathtools, graphql-core\n",
            "  Building wheel for subprocess32 (setup.py) ... \u001b[?25l\u001b[?25hdone\n",
            "  Created wheel for subprocess32: filename=subprocess32-3.5.4-cp36-none-any.whl size=6489 sha256=324d913a4d414d8068998dce1bd873d7e744f457c58f04abdee93a8505a167f1\n",
            "  Stored in directory: /root/.cache/pip/wheels/68/39/1a/5e402bdfdf004af1786c8b853fd92f8c4a04f22aad179654d1\n",
            "  Building wheel for watchdog (setup.py) ... \u001b[?25l\u001b[?25hdone\n",
            "  Created wheel for watchdog: filename=watchdog-0.10.2-cp36-none-any.whl size=73605 sha256=6f4b03d14bd4d5c952e852bfc95b26a6555256e033d5c2f8ae126937d9f4d20c\n",
            "  Stored in directory: /root/.cache/pip/wheels/bc/ed/6c/028dea90d31b359cd2a7c8b0da4db80e41d24a59614154072e\n",
            "  Building wheel for gql (setup.py) ... \u001b[?25l\u001b[?25hdone\n",
            "  Created wheel for gql: filename=gql-0.2.0-cp36-none-any.whl size=7630 sha256=f2df7818d5c0c3931cae0b1b2ddd20d02703448d358bde5face41ab1054a801d\n",
            "  Stored in directory: /root/.cache/pip/wheels/ce/0e/7b/58a8a5268655b3ad74feef5aa97946f0addafb3cbb6bd2da23\n",
            "  Building wheel for imgaug (setup.py) ... \u001b[?25l\u001b[?25hdone\n",
            "  Created wheel for imgaug: filename=imgaug-0.2.6-cp36-none-any.whl size=654020 sha256=f048af0aa146ad7603baf4b07135c83b7efa479ce61badbc317875a8e7b9d827\n",
            "  Stored in directory: /root/.cache/pip/wheels/97/ec/48/0d25896c417b715af6236dbcef8f0bed136a1a5e52972fc6d0\n",
            "  Building wheel for pathtools (setup.py) ... \u001b[?25l\u001b[?25hdone\n",
            "  Created wheel for pathtools: filename=pathtools-0.1.2-cp36-none-any.whl size=8784 sha256=ff575099516c9455558fffd15e784464b256ed4a03487fc8c791ab67f21c2f0a\n",
            "  Stored in directory: /root/.cache/pip/wheels/0b/04/79/c3b0c3a0266a3cb4376da31e5bfe8bba0c489246968a68e843\n",
            "  Building wheel for graphql-core (setup.py) ... \u001b[?25l\u001b[?25hdone\n",
            "  Created wheel for graphql-core: filename=graphql_core-1.1-cp36-none-any.whl size=104650 sha256=0f7c8fea3a7661c2253261d18a5794648ca4bdcdf504b3acf77ce1c7c4820c10\n",
            "  Stored in directory: /root/.cache/pip/wheels/45/99/d7/c424029bb0fe910c63b68dbf2aa20d3283d023042521bcd7d5\n",
            "Successfully built subprocess32 watchdog gql imgaug pathtools graphql-core\n",
            "Installing collected packages: pytorch-ignite, sentry-sdk, subprocess32, configparser, pathtools, watchdog, smmap, gitdb, GitPython, shortuuid, graphql-core, gql, docker-pycreds, wandb, kornia, imgaug\n",
            "  Found existing installation: imgaug 0.2.9\n",
            "    Uninstalling imgaug-0.2.9:\n",
            "      Successfully uninstalled imgaug-0.2.9\n",
            "Successfully installed GitPython-3.1.2 configparser-5.0.0 docker-pycreds-0.4.0 gitdb-4.0.5 gql-0.2.0 graphql-core-1.1 imgaug-0.2.6 kornia-0.3.1 pathtools-0.1.2 pytorch-ignite-0.3.0 sentry-sdk-0.14.4 shortuuid-1.0.1 smmap-3.0.4 subprocess32-3.5.4 wandb-0.8.36 watchdog-0.10.2\n"
          ],
          "name": "stdout"
        }
      ]
    },
    {
      "cell_type": "code",
      "metadata": {
        "id": "hfblgxgzgYN4",
        "colab_type": "code",
        "outputId": "5dffe8c9-61be-470d-c361-013dc9386dcc",
        "colab": {
          "base_uri": "https://localhost:8080/",
          "height": 541
        }
      },
      "source": [
        "!pip install -U git+https://github.com/albu/albumentations"
      ],
      "execution_count": 5,
      "outputs": [
        {
          "output_type": "stream",
          "text": [
            "Collecting git+https://github.com/albu/albumentations\n",
            "  Cloning https://github.com/albu/albumentations to /tmp/pip-req-build-d40rj5na\n",
            "  Running command git clone -q https://github.com/albu/albumentations /tmp/pip-req-build-d40rj5na\n",
            "Requirement already satisfied, skipping upgrade: numpy>=1.11.1 in /usr/local/lib/python3.6/dist-packages (from albumentations==0.4.5) (1.18.4)\n",
            "Requirement already satisfied, skipping upgrade: scipy in /usr/local/lib/python3.6/dist-packages (from albumentations==0.4.5) (1.4.1)\n",
            "Requirement already satisfied, skipping upgrade: imgaug<0.2.7,>=0.2.5 in /usr/local/lib/python3.6/dist-packages (from albumentations==0.4.5) (0.2.6)\n",
            "Requirement already satisfied, skipping upgrade: PyYAML in /usr/local/lib/python3.6/dist-packages (from albumentations==0.4.5) (3.13)\n",
            "Requirement already satisfied, skipping upgrade: opencv-python>=4.1.1 in /usr/local/lib/python3.6/dist-packages (from albumentations==0.4.5) (4.1.2.30)\n",
            "Requirement already satisfied, skipping upgrade: scikit-image>=0.11.0 in /usr/local/lib/python3.6/dist-packages (from imgaug<0.2.7,>=0.2.5->albumentations==0.4.5) (0.16.2)\n",
            "Requirement already satisfied, skipping upgrade: six in /usr/local/lib/python3.6/dist-packages (from imgaug<0.2.7,>=0.2.5->albumentations==0.4.5) (1.12.0)\n",
            "Requirement already satisfied, skipping upgrade: matplotlib!=3.0.0,>=2.0.0 in /usr/local/lib/python3.6/dist-packages (from scikit-image>=0.11.0->imgaug<0.2.7,>=0.2.5->albumentations==0.4.5) (3.2.1)\n",
            "Requirement already satisfied, skipping upgrade: pillow>=4.3.0 in /usr/local/lib/python3.6/dist-packages (from scikit-image>=0.11.0->imgaug<0.2.7,>=0.2.5->albumentations==0.4.5) (7.0.0)\n",
            "Requirement already satisfied, skipping upgrade: imageio>=2.3.0 in /usr/local/lib/python3.6/dist-packages (from scikit-image>=0.11.0->imgaug<0.2.7,>=0.2.5->albumentations==0.4.5) (2.4.1)\n",
            "Requirement already satisfied, skipping upgrade: PyWavelets>=0.4.0 in /usr/local/lib/python3.6/dist-packages (from scikit-image>=0.11.0->imgaug<0.2.7,>=0.2.5->albumentations==0.4.5) (1.1.1)\n",
            "Requirement already satisfied, skipping upgrade: networkx>=2.0 in /usr/local/lib/python3.6/dist-packages (from scikit-image>=0.11.0->imgaug<0.2.7,>=0.2.5->albumentations==0.4.5) (2.4)\n",
            "Requirement already satisfied, skipping upgrade: python-dateutil>=2.1 in /usr/local/lib/python3.6/dist-packages (from matplotlib!=3.0.0,>=2.0.0->scikit-image>=0.11.0->imgaug<0.2.7,>=0.2.5->albumentations==0.4.5) (2.8.1)\n",
            "Requirement already satisfied, skipping upgrade: kiwisolver>=1.0.1 in /usr/local/lib/python3.6/dist-packages (from matplotlib!=3.0.0,>=2.0.0->scikit-image>=0.11.0->imgaug<0.2.7,>=0.2.5->albumentations==0.4.5) (1.2.0)\n",
            "Requirement already satisfied, skipping upgrade: pyparsing!=2.0.4,!=2.1.2,!=2.1.6,>=2.0.1 in /usr/local/lib/python3.6/dist-packages (from matplotlib!=3.0.0,>=2.0.0->scikit-image>=0.11.0->imgaug<0.2.7,>=0.2.5->albumentations==0.4.5) (2.4.7)\n",
            "Requirement already satisfied, skipping upgrade: cycler>=0.10 in /usr/local/lib/python3.6/dist-packages (from matplotlib!=3.0.0,>=2.0.0->scikit-image>=0.11.0->imgaug<0.2.7,>=0.2.5->albumentations==0.4.5) (0.10.0)\n",
            "Requirement already satisfied, skipping upgrade: decorator>=4.3.0 in /usr/local/lib/python3.6/dist-packages (from networkx>=2.0->scikit-image>=0.11.0->imgaug<0.2.7,>=0.2.5->albumentations==0.4.5) (4.4.2)\n",
            "Building wheels for collected packages: albumentations\n",
            "  Building wheel for albumentations (setup.py) ... \u001b[?25l\u001b[?25hdone\n",
            "  Created wheel for albumentations: filename=albumentations-0.4.5-cp36-none-any.whl size=65038 sha256=1c9569ddcfa2971a97ad3f348ca10bfa18de615ccc78a39d29e26427f39c9bb4\n",
            "  Stored in directory: /tmp/pip-ephem-wheel-cache-kd0hvdw7/wheels/45/8b/e4/2837bbcf517d00732b8e394f8646f22b8723ac00993230188b\n",
            "Successfully built albumentations\n",
            "Installing collected packages: albumentations\n",
            "  Found existing installation: albumentations 0.1.12\n",
            "    Uninstalling albumentations-0.1.12:\n",
            "      Successfully uninstalled albumentations-0.1.12\n",
            "Successfully installed albumentations-0.4.5\n"
          ],
          "name": "stdout"
        }
      ]
    },
    {
      "cell_type": "code",
      "metadata": {
        "id": "Sqsllbl8Fg-i",
        "colab_type": "code",
        "outputId": "f9ab681a-909d-4d0e-d834-369c87d274cd",
        "colab": {
          "base_uri": "https://localhost:8080/",
          "height": 50
        }
      },
      "source": [
        "!wandb login a6f947d2d2f69e7a8c8ca0f69811fd554f27d204\n"
      ],
      "execution_count": 6,
      "outputs": [
        {
          "output_type": "stream",
          "text": [
            "\u001b[34m\u001b[1mwandb\u001b[0m: Appending key for api.wandb.ai to your netrc file: /root/.netrc\n",
            "\u001b[32mSuccessfully logged in to Weights & Biases!\u001b[0m\n"
          ],
          "name": "stdout"
        }
      ]
    },
    {
      "cell_type": "code",
      "metadata": {
        "id": "sI3bimQe2u6I",
        "colab_type": "code",
        "colab": {}
      },
      "source": [
        "import os\n",
        "\n",
        "import numpy as np\n",
        "import cv2\n",
        "from matplotlib import pyplot as plt\n",
        "from skimage.color import label2rgb\n",
        "\n",
        "import albumentations as A\n",
        "import random\n",
        "from google.colab.patches import cv2_imshow\n",
        "from PIL import Image\n",
        "import glob\n",
        "import pandas as pd\n",
        "\n",
        "import torch\n",
        "from zipfile import ZipFile\n",
        "import re\n",
        "import h5py\n",
        "import time\n",
        "\n"
      ],
      "execution_count": 0,
      "outputs": []
    },
    {
      "cell_type": "code",
      "metadata": {
        "id": "XIGpeyNt6bWF",
        "colab_type": "code",
        "outputId": "ae2ff2dd-33dd-4573-8009-8d3261adff05",
        "colab": {
          "base_uri": "https://localhost:8080/",
          "height": 104
        }
      },
      "source": [
        "%load_ext autoreload\n",
        "%autoreload 2\n",
        "import torch\n",
        "import torchvision\n",
        "import torchvision.transforms as transforms\n",
        "from RekogNizer import hyperparams\n",
        "\n",
        "\n",
        "from albumentations import Compose, RandomCrop, Normalize, HorizontalFlip, Resize, Cutout, MotionBlur\n",
        "from albumentations import (\n",
        "    HorizontalFlip, Compose, RandomCrop, Cutout,Normalize, HorizontalFlip, RandomBrightnessContrast,\n",
        "    Resize,RandomSizedCrop, MotionBlur,MultiplicativeNoise,InvertImg, IAAFliplr,\n",
        "\tIAAPerspective,\n",
        ")\n",
        "from albumentations.pytorch import ToTensor\n",
        "import random\n",
        "\n",
        "from torchvision.datasets.vision import VisionDataset\n",
        "from torchvision.datasets.utils import check_integrity, download_and_extract_archive\n",
        "import os\n",
        "import sys\n",
        "import numpy as np\n",
        "from torchvision import datasets\n",
        "#from RekogNizer import imgnetloader\n",
        "from RekogNizer import basemodelclass\n",
        "from RekogNizer import mmdlrfinder\n",
        "\n",
        "from RekogNizer import mmdtraintest\n",
        "from RekogNizer import mmddataloader\n",
        "from RekogNizer import mmdlosses\n",
        "from RekogNizer import mmdmodels\n",
        "\n",
        "from RekogNizer import hyperparams\n",
        "from RekogNizer import fileutils\n",
        "\n",
        "from torch.utils.data import Dataset\n",
        "import shutil\n",
        "from tqdm import tqdm\n",
        "from RekogNizer import mmdmodels\n",
        "\n",
        "import torch\n",
        "import torch.nn as nn\n",
        "import torch.nn.functional as F\n",
        "import torch.optim as optim\n",
        "from torch.optim.lr_scheduler import StepLR, OneCycleLR, MultiStepLR, CyclicLR, ReduceLROnPlateau\n",
        "\n",
        "\n",
        "import kornia\n",
        "\n",
        "import cv2\n",
        "import numpy as np\n",
        "import matplotlib.pyplot as plt\n",
        "from torchsummary import summary\n",
        "import wandb"
      ],
      "execution_count": 8,
      "outputs": [
        {
          "output_type": "stream",
          "text": [
            "WARNING:RekogNizer.lrfinder:To enable mixed precision training, please install `apex`. Or you can re-install this package by the following command:\n",
            "  pip install torch-lr-finder -v --global-option=\"amp\"\n",
            "WARNING:RekogNizer.mmdlrfinder:To enable mixed precision training, please install `apex`. Or you can re-install this package by the following command:\n",
            "  pip install torch-lr-finder -v --global-option=\"amp\"\n"
          ],
          "name": "stderr"
        }
      ]
    },
    {
      "cell_type": "markdown",
      "metadata": {
        "id": "hOkH6HTsb-AA",
        "colab_type": "text"
      },
      "source": [
        "### Mask Image (Mean and Variance\n",
        "Mask Mean:0.057950844077600344, Mask StdDev:0.0016620444341229432\n",
        "### Depth mean and Variance\n",
        "Depth Mean:0.3679109312239146, Depth StdDev:0.03551773442719045"
      ]
    },
    {
      "cell_type": "code",
      "metadata": {
        "id": "fKusfKBzB3i9",
        "colab_type": "code",
        "colab": {}
      },
      "source": [
        "!rm -rf /content/train && mkdir -p /content/train\n",
        "!rm -rf /content/test && mkdir -p /content/test"
      ],
      "execution_count": 0,
      "outputs": []
    },
    {
      "cell_type": "code",
      "metadata": {
        "id": "_lGqE17mmHnV",
        "colab_type": "code",
        "colab": {}
      },
      "source": [
        ""
      ],
      "execution_count": 0,
      "outputs": []
    },
    {
      "cell_type": "markdown",
      "metadata": {
        "id": "3mF7g4Z_2kIf",
        "colab_type": "text"
      },
      "source": [
        "### Dataloaders"
      ]
    },
    {
      "cell_type": "code",
      "metadata": {
        "id": "hlfpQ5iFBsAu",
        "colab_type": "code",
        "outputId": "19ae542a-3e73-4f6c-a5b7-2f3ab4fe0b69",
        "colab": {
          "base_uri": "https://localhost:8080/",
          "height": 84
        }
      },
      "source": [
        "from RekogNizer import mmddataloader\n",
        "tqdm._instances.clear()\n",
        "train_loader, test_loader = mmddataloader.get_train_test_loader(200000, \n",
        "                                                  280000, \n",
        "                                                  64,\n",
        "                                                  0, \n",
        "                                                  10000,\n",
        "                                                  64,\n",
        "                                                  (224,224),\n",
        "                                                  unzip_orig_files=True)"
      ],
      "execution_count": 0,
      "outputs": [
        {
          "output_type": "stream",
          "text": [
            "\rdepth_mask_gt_2k6k.zip depth_image_340c50bfb6_mylobby_8.jpg:   1%|          | 135/26501 [04:58<16:13:08,  2.21s/it]\n"
          ],
          "name": "stderr"
        },
        {
          "output_type": "stream",
          "text": [
            "Extracting image and mask files\n"
          ],
          "name": "stdout"
        },
        {
          "output_type": "stream",
          "text": [
            "image_mask_gt1k2k.zip mask_24876ff1d9_classroom_14.jpg: 100%|██████████| 26298/26298 [00:52<00:00, 505.60it/s]\n",
            "image_mask_gt2k6k.zip image_1c76373679_corridor11.jpg:  12%|█▏        | 6140/53002 [00:21<02:20, 333.85it/s]"
          ],
          "name": "stderr"
        }
      ]
    },
    {
      "cell_type": "markdown",
      "metadata": {
        "id": "ERIxGKtPbfg_",
        "colab_type": "text"
      },
      "source": [
        "## LR Range Finder"
      ]
    },
    {
      "cell_type": "code",
      "metadata": {
        "id": "rmYsunOxKM6K",
        "colab_type": "code",
        "colab": {}
      },
      "source": [
        "device = torch.device(\"cuda\" if not hyperparams.hyperparameter_defaults['no_cuda'] else \"cpu\")\n",
        "model_new  =mmdmodels.UNet(n_channels=6, n_classes=2)\n",
        "\n",
        "expand_model  =mmdmodels.CustomUNet(model_new,n_channels=6, n_classes=2)"
      ],
      "execution_count": 0,
      "outputs": []
    },
    {
      "cell_type": "code",
      "metadata": {
        "id": "-4czyuoHM82L",
        "colab_type": "code",
        "outputId": "edcd1eb8-4061-485d-ac99-0e66968b0fb7",
        "colab": {
          "base_uri": "https://localhost:8080/",
          "height": 82,
          "referenced_widgets": [
            "4f0a319f45764e6380ee8d8f49c06824",
            "83a4902b6355404a9bd76a6870e419fd",
            "758a7adc0e1d49df84b70b664028d78f",
            "b8cc691f28be435b8e9c0b349c4cb504",
            "5900e941d80a43628e41640d61d42978",
            "52f7951df00d4ea497965160e2abbbf0",
            "4c19ef9a69f8423aaf5268342b6dc83c",
            "7076ad34e21d4115a9b2ead8adc381f5"
          ]
        }
      },
      "source": [
        "from RekogNizer import mmdtraintest\n",
        "from RekogNizer import mmdlosses\n",
        "\n",
        "criterion={\"mask\":[mmdlosses.dice_loss, mmdlosses.LocalL1Loss], \n",
        "           \"depth\":[mmdlosses.LocalRMSELoss, mmdlosses.LocalSSIMLoss]}\n",
        "\n",
        "#criterion={\"mask\":[mmdlosses.dice_loss, mmdlosses.LocalBCELoss, mmdlosses.LocalSSIMLoss ], \"depth\":[mmdlosses.LocalRMSELoss]}\n",
        "#model = basemodelclass.MonoMaskDepthResNetFunc()\n",
        "optimizer=optim.SGD(expand_model_params, lr=0.001,momentum=0.9,  weight_decay=0)\n",
        "lrfinder = mmdtraintest.find_lr_type1(expand_model, optimizer, criterion, train_loader, testloader=None, seed=1, start_lr=0.0001, end_lr=1, step_mode=\"exp\",num_iter=100)\n"
      ],
      "execution_count": 0,
      "outputs": [
        {
          "output_type": "display_data",
          "data": {
            "application/vnd.jupyter.widget-view+json": {
              "model_id": "4f0a319f45764e6380ee8d8f49c06824",
              "version_minor": 0,
              "version_major": 2
            },
            "text/plain": [
              "HBox(children=(FloatProgress(value=0.0), HTML(value='')))"
            ]
          },
          "metadata": {
            "tags": []
          }
        },
        {
          "output_type": "stream",
          "text": [
            "\n",
            "Learning rate search finished. See the graph with {finder_name}.plot()\n"
          ],
          "name": "stdout"
        }
      ]
    },
    {
      "cell_type": "code",
      "metadata": {
        "id": "uGBwSIEHQQ2C",
        "colab_type": "code",
        "outputId": "f013888b-4f8a-4265-a4f0-a1f9e5d781c4",
        "colab": {
          "base_uri": "https://localhost:8080/",
          "height": 354
        }
      },
      "source": [
        "min_lr = lrfinder.history['lr'][np.argmin(lrfinder.history['loss'])]\n",
        "max_lr = np.max(lrfinder.history['lr'])\n",
        "print(min_lr, max_lr, np.min(lrfinder.history['loss']))\n",
        "print(lrfinder.history)\n",
        "lrfinder.plot()"
      ],
      "execution_count": 0,
      "outputs": [
        {
          "output_type": "stream",
          "text": [
            "0.02754228703338166 1.0 1.0897459983825684\n",
            "{'lr': [0.00010964781961431851, 0.0001202264434617413, 0.0001318256738556407, 0.00014454397707459274, 0.00015848931924611136, 0.00017378008287493755, 0.00019054607179632473, 0.00020892961308540398, 0.00022908676527677731, 0.000251188643150958, 0.0002754228703338166, 0.00030199517204020164, 0.00033113112148259116, 0.0003630780547701014, 0.00039810717055349724, 0.00043651583224016605, 0.00047863009232263843, 0.0005248074602497726, 0.000575439937337157, 0.0006309573444801934, 0.0006918309709189364, 0.0007585775750291837, 0.0008317637711026711, 0.0009120108393559097, 0.001, 0.0010964781961431851, 0.0012022644346174132, 0.0013182567385564075, 0.0014454397707459273, 0.0015848931924611134, 0.0017378008287493754, 0.0019054607179632473, 0.00208929613085404, 0.0022908676527677737, 0.0025118864315095794, 0.0027542287033381664, 0.003019951720402016, 0.0033113112148259113, 0.0036307805477010144, 0.003981071705534973, 0.004365158322401658, 0.004786300923226383, 0.005248074602497726, 0.00575439937337157, 0.006309573444801933, 0.006918309709189366, 0.007585775750291837, 0.008317637711026709, 0.009120108393559099, 0.01, 0.01096478196143185, 0.012022644346174132, 0.013182567385564073, 0.01445439770745928, 0.01584893192461114, 0.017378008287493762, 0.019054607179632466, 0.02089296130854039, 0.022908676527677724, 0.025118864315095798, 0.02754228703338166, 0.030199517204020164, 0.03311311214825911, 0.036307805477010145, 0.039810717055349734, 0.04365158322401661, 0.04786300923226385, 0.052480746024977286, 0.057543993733715666, 0.0630957344480193, 0.06918309709189363, 0.07585775750291836, 0.08317637711026708, 0.09120108393559097, 0.1, 0.10964781961431852, 0.12022644346174131, 0.13182567385564076, 0.1445439770745928, 0.1584893192461114, 0.17378008287493762, 0.19054607179632463, 0.2089296130854039, 0.22908676527677727, 0.251188643150958, 0.2754228703338166, 0.30199517204020165, 0.3311311214825911, 0.3630780547701014, 0.39810717055349737, 0.43651583224016616, 0.47863009232263853, 0.5248074602497729, 0.5754399373371566, 0.630957344480193, 0.6918309709189363, 0.7585775750291837, 0.831763771102671, 0.9120108393559097, 1.0], 'loss': [1.2129535675048828, 1.2176920175552368, 1.200863242149353, 1.1911972761154175, 1.2133336067199707, 1.1839087009429932, 1.1884074211120605, 1.1898078918457031, 1.168840765953064, 1.1953459978103638, 1.1716861724853516, 1.2077763080596924, 1.1912879943847656, 1.1743977069854736, 1.1869724988937378, 1.2172083854675293, 1.2004870176315308, 1.1627960205078125, 1.1660869121551514, 1.1648045778274536, 1.1803394556045532, 1.1818679571151733, 1.1565078496932983, 1.142012596130371, 1.1488803625106812, 1.1432886123657227, 1.156976580619812, 1.144568681716919, 1.1397786140441895, 1.108445167541504, 1.1488347053527832, 1.131992220878601, 1.1108134984970093, 1.1196489334106445, 1.1130530834197998, 1.1224552392959595, 1.1114881038665771, 1.1303765773773193, 1.1129494905471802, 1.1083694696426392, 1.1098723411560059, 1.1128172874450684, 1.1191052198410034, 1.1109819412231445, 1.0990946292877197, 1.1117682456970215, 1.1040551662445068, 1.1093761920928955, 1.1193249225616455, 1.0979523658752441, 1.120116949081421, 1.1100069284439087, 1.1291923522949219, 1.1136550903320312, 1.1134928464889526, 1.1100224256515503, 1.1186057329177856, 1.1099836826324463, 1.1041277647018433, 1.0941076278686523, 1.0897459983825684, 1.0984532833099365, 1.1089224815368652, 1.1112726926803589, 1.1050615310668945, 1.100728988647461, 1.1032774448394775, 1.1035187244415283, 1.121227741241455, 1.1203937530517578, 1.1074978113174438, 1.1257328987121582, 1.124160885810852, 1.0899348258972168, 1.114709734916687, 1.1148520708084106, 1.1150299310684204, 1.1153366565704346, 1.1254184246063232, 1.1185307502746582, 1.1482558250427246, 1.1193997859954834, 1.1361759901046753, 1.1115769147872925, 1.1130561828613281, 1.1248314380645752, 1.121222972869873, 1.1289405822753906, 1.133741855621338, 1.1195523738861084, 1.1398990154266357, 1.1392654180526733, 1.1442084312438965, 1.1331580877304077, 1.1398940086364746, 1.1337546110153198, 1.1485508680343628, 1.1362636089324951, 1.1465365886688232, 1.1385694742202759], 'acc': [], 'val_acc': []}\n",
            "LR plotting in progress\n"
          ],
          "name": "stdout"
        },
        {
          "output_type": "display_data",
          "data": {
            "image/png": "[encoded data removed]",
            "text/plain": [
              "<Figure size 432x288 with 1 Axes>"
            ]
          },
          "metadata": {
            "tags": [],
            "needs_background": "light"
          }
        }
      ]
    },
    {
      "cell_type": "code",
      "metadata": {
        "id": "ChEFy3qykdN1",
        "colab_type": "code",
        "colab": {}
      },
      "source": [
        "lrfinder.reset()"
      ],
      "execution_count": 0,
      "outputs": []
    },
    {
      "cell_type": "code",
      "metadata": {
        "id": "kf60MIkZJvRe",
        "colab_type": "code",
        "colab": {}
      },
      "source": [
        "summary(expand_model, input_size=(6,64,64)  )"
      ],
      "execution_count": 0,
      "outputs": []
    },
    {
      "cell_type": "code",
      "metadata": {
        "id": "NRxd6RU-tn6i",
        "colab_type": "code",
        "colab": {}
      },
      "source": [
        "expand_model = mmdtraintest.load_model_for_infer(expand_model, \n",
        "                                  #'/content/drive/My Drive/EVA4/model_saves/model-33e4abd6ba.h5',\n",
        "                                  '/content/drive/My Drive/EVA4/model_saves/model-2826169092.h5',\n",
        "                                  device)\n"
      ],
      "execution_count": 0,
      "outputs": []
    },
    {
      "cell_type": "markdown",
      "metadata": {
        "id": "tvPA86bR7BRu",
        "colab_type": "text"
      },
      "source": [
        "## Inferencing"
      ]
    },
    {
      "cell_type": "code",
      "metadata": {
        "id": "yh9T39yGHEbm",
        "colab_type": "code",
        "colab": {}
      },
      "source": [
        "device = torch.device(\"cuda\" if not hyperparams.hyperparameter_defaults['no_cuda'] else \"cpu\")\n",
        "model_new  =mmdmodels.UNet(n_channels=6, n_classes=2)\n",
        "\n",
        "model_new = mmdtraintest.load_model_for_infer(model_new, \n",
        "                                  '/content/drive/My Drive/EVA4/model_saves/model-10c477f01a.h5',\n",
        "                                  device)\n"
      ],
      "execution_count": 0,
      "outputs": []
    },
    {
      "cell_type": "code",
      "metadata": {
        "id": "gmtssyIF-BLb",
        "colab_type": "code",
        "outputId": "bb8d122c-6714-4a45-813f-1c37b9fa2563",
        "colab": {
          "base_uri": "https://localhost:8080/",
          "height": 208
        }
      },
      "source": [
        "cmap='gray'\n",
        "img = iter(test_loader).next()\n",
        "with torch.no_grad():\n",
        "    output_val = expand_model(img['input'].to(device)).to(\"cpu\")\n",
        "output_pred = torch.split(output_val,1,dim=1)\n",
        "# mask_pred = [kornia.tensor_to_image(((output_pred[0][val].to(\"cpu\")*0.0016620444341229432+0.057950844077600344)*255).byte()) for val in range(8) ]\n",
        "# depth_pred = [kornia.tensor_to_image(((output_pred[1][val].to(\"cpu\")*0.03551773442719045+0.3679109312239146)*255).byte()) for val in range(8) ]\n",
        "\n",
        "mask_pred = [kornia.tensor_to_image((output_pred[0][val].to(\"cpu\")*255).byte()) for val in range(8) ]\n",
        "depth_pred = [kornia.tensor_to_image((output_pred[1][val].to(\"cpu\")*255).byte()) for val in range(8) ]\n",
        "\n",
        "\n",
        "img_shape = img['output'][0][1].shape[1]\n",
        "mask_gt = [img['output'][0][val].reshape(img_shape,img_shape) for val in range(8) ]\n",
        "depth_gt = [img['output'][1][val].reshape(img_shape,img_shape) for val in range(8) ]\n",
        "plt.figure(figsize=(10,10)) \n",
        "plt.imshow(np.vstack([np.hstack(mask_pred),np.hstack(depth_pred)]),cmap=cmap)"
      ],
      "execution_count": 0,
      "outputs": [
        {
          "output_type": "execute_result",
          "data": {
            "text/plain": [
              "<matplotlib.image.AxesImage at 0x7f1064865b38>"
            ]
          },
          "metadata": {
            "tags": []
          },
          "execution_count": 55
        },
        {
          "output_type": "display_data",
          "data": {
            "image/png": "[encoded data removed]",
            "text/plain": [
              "<Figure size 720x720 with 1 Axes>"
            ]
          },
          "metadata": {
            "tags": [],
            "needs_background": "light"
          }
        }
      ]
    },
    {
      "cell_type": "markdown",
      "metadata": {
        "id": "XlVPXImdDwqF",
        "colab_type": "text"
      },
      "source": [
        "## Training Loops"
      ]
    },
    {
      "cell_type": "markdown",
      "metadata": {
        "id": "1WHhSHhP5YCO",
        "colab_type": "text"
      },
      "source": [
        "### Training Stage-2 BaseLine\n",
        "#### In this stage only the Top 2 Layers were trained. This was acheived by passing only the top 2 layers parameters to the optimizer\n",
        "```\n",
        "model_new ---> Base Model trained at 56x56 resolution\n",
        "\n",
        "model_new_params = ['baseUNet.'+param[0] for param in list(model_new.named_parameters()) ]\n",
        "expand_model_params = [param[1] for param in list(expand_model.named_parameters()) if param[0] not in model_new_params]\n",
        "```"
      ]
    },
    {
      "cell_type": "code",
      "metadata": {
        "id": "y5WOxfFUjHeI",
        "colab_type": "code",
        "outputId": "6a037c4f-3e8f-4d9f-e536-0e94f2f0baaf",
        "colab": {
          "base_uri": "https://localhost:8080/",
          "height": 1000
        }
      },
      "source": [
        "######## OCP \n",
        "from RekogNizer import mmdmodels\n",
        "device = torch.device(\"cuda\" if not hyperparams.hyperparameter_defaults['no_cuda'] else \"cpu\")\n",
        "tqdm._instances.clear()\n",
        "hyperparams.set_hyperparam({\"epochs\":10})\n",
        "\n",
        "hyperparams.hyperparameter_defaults['run_name'] = fileutils.rand_run_name()\n",
        "hyperparams.hyperparameter_defaults['epochs'] = 40\n",
        "hyperparams.hyperparameter_defaults['lr'] = 0.1\n",
        "hyperparams.hyperparameter_defaults['ocp_max_lr'] = 0.1\n",
        "\n",
        "print(\"Initializing datasets and dataloaders\")    \n",
        "\n",
        "wandb_run_init = wandb.init(config=hyperparams.hyperparameter_defaults, \n",
        "                            project=hyperparams.hyperparameter_defaults['project'])\n",
        "config = wandb.config\n",
        "print(config)\n",
        "\n",
        "########### \n",
        "#model_new_params = ['baseUNet.'+param[0] for param in list(model_new.named_parameters()) ]\n",
        "#expand_model_params = [param[1] for param in list(expand_model.named_parameters()) if param[0] not in model_new_params]\n",
        "optimizer=optim.SGD(expand_model_params, lr=config.lr,momentum=config.momentum,\n",
        "                        weight_decay=1e-5)\n",
        "#expand_model_params\n",
        "# criterion={\"mask\":[mmdlosses.dice_loss, mmdlosses.LocalBCELoss, mmdlosses.LocalPixelLoss], \n",
        "#            \"depth\":[mmdlosses.LocalRMSELoss, mmdlosses.LocalSSIMLoss]}\n",
        "\n",
        "criterion={\"mask\":[mmdlosses.dice_loss, mmdlosses.LocalL1Loss], \n",
        "           \"depth\":[mmdlosses.LocalRMSELoss, mmdlosses.LocalSSIMLoss]}\n",
        "\n",
        "#scheduler = ReduceLROnPlateau(optimizer, mode='min', factor=0.5, patience=2, verbose=True, threshold=0.0001)\n",
        "scheduler = OneCycleLR(optimizer, \n",
        "                        config.ocp_max_lr, \n",
        "                        epochs=config.epochs, \n",
        "                        cycle_momentum=True, \n",
        "                        steps_per_epoch=len(train_loader), \n",
        "                        base_momentum=config.momentum,\n",
        "                        max_momentum=0.95, \n",
        "                        pct_start=0.208,\n",
        "                        anneal_strategy=config.anneal_strategy,\n",
        "                        div_factor=config.div_factor,\n",
        "                        final_div_factor=config.final_div_factor\n",
        "                           )\n",
        "\n",
        "final_model_path = mmdtraintest.execute_model(expand_model, \n",
        "            hyperparams.hyperparameter_defaults, \n",
        "            train_loader, test_loader, \n",
        "            device, \n",
        "            wandb=wandb,\n",
        "            optimizer_in=optimizer,\n",
        "            scheduler=scheduler,\n",
        "            prev_saved_model=None,\n",
        "            criterion=criterion,\n",
        "            save_best=True,\n",
        "            lars_mode=False,\n",
        "            batch_step=True)"
      ],
      "execution_count": 0,
      "outputs": [
        {
          "output_type": "stream",
          "text": [
            "Initializing datasets and dataloaders\n"
          ],
          "name": "stdout"
        },
        {
          "output_type": "display_data",
          "data": {
            "text/html": [
              "\n",
              "                Logging results to <a href=\"https://wandb.com\" target=\"_blank\">Weights & Biases</a> <a href=\"https://docs.wandb.com/integrations/jupyter.html\" target=\"_blank\">(Documentation)</a>.<br/>\n",
              "                Project page: <a href=\"https://app.wandb.ai/rajy4683/news5\" target=\"_blank\">https://app.wandb.ai/rajy4683/news5</a><br/>\n",
              "                Run page: <a href=\"https://app.wandb.ai/rajy4683/news5/runs/1cqjuahw\" target=\"_blank\">https://app.wandb.ai/rajy4683/news5/runs/1cqjuahw</a><br/>\n",
              "            "
            ],
            "text/plain": [
              "<IPython.core.display.HTML object>"
            ]
          },
          "metadata": {
            "tags": []
          }
        },
        {
          "output_type": "stream",
          "text": [
            "\r  0%|          | 0/782 [00:00<?, ?it/s]"
          ],
          "name": "stderr"
        },
        {
          "output_type": "stream",
          "text": [
            "wandb_version: 1\n",
            "\n",
            "_wandb:\n",
            "  desc: null\n",
            "  value:\n",
            "    cli_version: 0.8.36\n",
            "    framework: torch\n",
            "    is_jupyter_run: true\n",
            "    is_kaggle_kernel: false\n",
            "    python_version: 3.6.9\n",
            "anneal_strategy:\n",
            "  desc: null\n",
            "  value: linear\n",
            "batch_size:\n",
            "  desc: null\n",
            "  value: 512\n",
            "bias:\n",
            "  desc: null\n",
            "  value: false\n",
            "cycle_momentum:\n",
            "  desc: null\n",
            "  value: false\n",
            "div_factor:\n",
            "  desc: null\n",
            "  value: 128\n",
            "dropout:\n",
            "  desc: null\n",
            "  value: 0.1\n",
            "epochs:\n",
            "  desc: null\n",
            "  value: 40\n",
            "factor:\n",
            "  desc: null\n",
            "  value: 0.0\n",
            "final_div_factor:\n",
            "  desc: null\n",
            "  value: 64\n",
            "lr:\n",
            "  desc: null\n",
            "  value: 0.1\n",
            "lr_decay_threshold:\n",
            "  desc: null\n",
            "  value: 0.0\n",
            "lr_policy:\n",
            "  desc: null\n",
            "  value: ocp\n",
            "momentum:\n",
            "  desc: null\n",
            "  value: 0.9\n",
            "no_cuda:\n",
            "  desc: null\n",
            "  value: false\n",
            "ocp_max_lr:\n",
            "  desc: null\n",
            "  value: 0.1\n",
            "pct_start:\n",
            "  desc: null\n",
            "  value: 0.208\n",
            "project:\n",
            "  desc: null\n",
            "  value: news5\n",
            "run_name:\n",
            "  desc: null\n",
            "  value: 150cfeb3dc\n",
            "sched_lr_gamma:\n",
            "  desc: null\n",
            "  value: 0.5\n",
            "sched_lr_step:\n",
            "  desc: null\n",
            "  value: 1\n",
            "seed:\n",
            "  desc: null\n",
            "  value: 1\n",
            "split_pct:\n",
            "  desc: null\n",
            "  value: 0.208\n",
            "start_lr:\n",
            "  desc: null\n",
            "  value: 0\n",
            "test_batch_size:\n",
            "  desc: null\n",
            "  value: 128\n",
            "weight_decay:\n",
            "  desc: null\n",
            "  value: 0.0\n",
            "\n",
            "Model saved to:  /content/drive/My Drive/EVA4/model_saves/model-150cfeb3dc.h5\n"
          ],
          "name": "stdout"
        },
        {
          "output_type": "stream",
          "text": [
            "loss=0.947564 m_loss=0.868694 d_loss=0.078870 batch_id=781: 100%|██████████| 782/782 [16:07<00:00,  1.24s/it]\n",
            "loss=0.943330 m_loss=0.866382 d_loss=0.076948 batch_id=78: 100%|██████████| 79/79 [00:42<00:00,  1.87it/s]\n"
          ],
          "name": "stderr"
        },
        {
          "output_type": "stream",
          "text": [
            "\n",
            "Epoch: 1 Train set: Average loss: 0.945764, Mask loss:0.877973, Depth loss:0.067791, lr:0\n",
            "Epoch: 1 Test set: Average loss: 0.950553, Mask loss:0.878275, Depth loss:0.072278\n",
            "Model saved as Test loss reduced from  10000.0  to  0.950553098811379\n"
          ],
          "name": "stdout"
        },
        {
          "output_type": "stream",
          "text": [
            "loss=0.947263 m_loss=0.868656 d_loss=0.078608 batch_id=781: 100%|██████████| 782/782 [16:08<00:00,  1.24s/it]\n",
            "loss=0.943342 m_loss=0.866420 d_loss=0.076922 batch_id=78: 100%|██████████| 79/79 [00:42<00:00,  1.86it/s]\n"
          ],
          "name": "stderr"
        },
        {
          "output_type": "stream",
          "text": [
            "\n",
            "Epoch: 2 Train set: Average loss: 0.945699, Mask loss:0.877965, Depth loss:0.067734, lr:0\n",
            "Epoch: 2 Test set: Average loss: 0.950518, Mask loss:0.878267, Depth loss:0.072251\n",
            "Model saved as Test loss reduced from  0.950553098811379  to  0.9505183915548687\n"
          ],
          "name": "stdout"
        },
        {
          "output_type": "stream",
          "text": [
            "loss=0.947146 m_loss=0.868642 d_loss=0.078504 batch_id=781: 100%|██████████| 782/782 [16:08<00:00,  1.24s/it]\n",
            "loss=0.943369 m_loss=0.866434 d_loss=0.076934 batch_id=78: 100%|██████████| 79/79 [00:42<00:00,  1.88it/s]\n"
          ],
          "name": "stderr"
        },
        {
          "output_type": "stream",
          "text": [
            "\n",
            "Epoch: 3 Train set: Average loss: 0.945629, Mask loss:0.877957, Depth loss:0.067672, lr:0\n",
            "Epoch: 3 Test set: Average loss: 0.950501, Mask loss:0.878275, Depth loss:0.072225\n",
            "Model saved as Test loss reduced from  0.9505183915548687  to  0.9505007817775388\n"
          ],
          "name": "stdout"
        },
        {
          "output_type": "stream",
          "text": [
            "loss=0.946892 m_loss=0.868615 d_loss=0.078277 batch_id=781: 100%|██████████| 782/782 [16:07<00:00,  1.24s/it]\n",
            "loss=0.943463 m_loss=0.866457 d_loss=0.077006 batch_id=78: 100%|██████████| 79/79 [00:42<00:00,  1.85it/s]\n"
          ],
          "name": "stderr"
        },
        {
          "output_type": "stream",
          "text": [
            "\n",
            "Epoch: 4 Train set: Average loss: 0.945567, Mask loss:0.877950, Depth loss:0.067617, lr:0\n",
            "Epoch: 4 Test set: Average loss: 0.950467, Mask loss:0.878273, Depth loss:0.072194\n",
            "Model saved as Test loss reduced from  0.9505007817775388  to  0.9504670048061805\n"
          ],
          "name": "stdout"
        },
        {
          "output_type": "stream",
          "text": [
            "loss=0.946730 m_loss=0.868623 d_loss=0.078107 batch_id=781: 100%|██████████| 782/782 [16:11<00:00,  1.24s/it]\n",
            "loss=0.943522 m_loss=0.866457 d_loss=0.077065 batch_id=78: 100%|██████████| 79/79 [00:42<00:00,  1.86it/s]\n"
          ],
          "name": "stderr"
        },
        {
          "output_type": "stream",
          "text": [
            "\n",
            "Epoch: 5 Train set: Average loss: 0.945503, Mask loss:0.877943, Depth loss:0.067560, lr:0\n",
            "Epoch: 5 Test set: Average loss: 0.950448, Mask loss:0.878261, Depth loss:0.072186\n",
            "Model saved as Test loss reduced from  0.9504670048061805  to  0.9504477706136583\n"
          ],
          "name": "stdout"
        },
        {
          "output_type": "stream",
          "text": [
            "loss=0.946439 m_loss=0.868612 d_loss=0.077827 batch_id=781: 100%|██████████| 782/782 [16:08<00:00,  1.24s/it]\n",
            "loss=0.943553 m_loss=0.866473 d_loss=0.077081 batch_id=78: 100%|██████████| 79/79 [00:42<00:00,  1.85it/s]\n"
          ],
          "name": "stderr"
        },
        {
          "output_type": "stream",
          "text": [
            "\n",
            "Epoch: 6 Train set: Average loss: 0.945441, Mask loss:0.877936, Depth loss:0.067505, lr:0\n",
            "Epoch: 6 Test set: Average loss: 0.950391, Mask loss:0.878240, Depth loss:0.072151\n",
            "Model saved as Test loss reduced from  0.9504477706136583  to  0.9503912276859525\n"
          ],
          "name": "stdout"
        },
        {
          "output_type": "stream",
          "text": [
            "loss=0.946313 m_loss=0.868577 d_loss=0.077736 batch_id=781: 100%|██████████| 782/782 [16:08<00:00,  1.24s/it]\n",
            "loss=0.943457 m_loss=0.866503 d_loss=0.076953 batch_id=78: 100%|██████████| 79/79 [00:42<00:00,  1.86it/s]\n"
          ],
          "name": "stderr"
        },
        {
          "output_type": "stream",
          "text": [
            "\n",
            "Epoch: 7 Train set: Average loss: 0.945381, Mask loss:0.877929, Depth loss:0.067452, lr:0\n",
            "Epoch: 7 Test set: Average loss: 0.950352, Mask loss:0.878237, Depth loss:0.072116\n",
            "Model saved as Test loss reduced from  0.9503912276859525  to  0.9503522620925421\n"
          ],
          "name": "stdout"
        },
        {
          "output_type": "stream",
          "text": [
            "loss=0.946176 m_loss=0.868595 d_loss=0.077581 batch_id=781: 100%|██████████| 782/782 [16:10<00:00,  1.24s/it]\n",
            "loss=0.943578 m_loss=0.866488 d_loss=0.077090 batch_id=78: 100%|██████████| 79/79 [00:42<00:00,  1.85it/s]\n"
          ],
          "name": "stderr"
        },
        {
          "output_type": "stream",
          "text": [
            "\n",
            "Epoch: 8 Train set: Average loss: 0.945320, Mask loss:0.877922, Depth loss:0.067399, lr:0\n",
            "Epoch: 8 Test set: Average loss: 0.950346, Mask loss:0.878241, Depth loss:0.072105\n",
            "Model saved as Test loss reduced from  0.9503522620925421  to  0.9503458564794516\n"
          ],
          "name": "stdout"
        },
        {
          "output_type": "stream",
          "text": [
            "loss=0.945994 m_loss=0.868587 d_loss=0.077407 batch_id=781: 100%|██████████| 782/782 [16:07<00:00,  1.24s/it]\n",
            "loss=0.943360 m_loss=0.866479 d_loss=0.076881 batch_id=78: 100%|██████████| 79/79 [00:42<00:00,  1.86it/s]\n"
          ],
          "name": "stderr"
        },
        {
          "output_type": "stream",
          "text": [
            "\n",
            "Epoch: 9 Train set: Average loss: 0.945262, Mask loss:0.877916, Depth loss:0.067346, lr:0\n",
            "Epoch: 9 Test set: Average loss: 0.950314, Mask loss:0.878232, Depth loss:0.072082\n",
            "Model saved as Test loss reduced from  0.9503458564794516  to  0.9503139612040942\n"
          ],
          "name": "stdout"
        },
        {
          "output_type": "stream",
          "text": [
            "loss=0.945725 m_loss=0.868588 d_loss=0.077137 batch_id=781: 100%|██████████| 782/782 [16:07<00:00,  1.24s/it]\n",
            "loss=0.943416 m_loss=0.866488 d_loss=0.076928 batch_id=78: 100%|██████████| 79/79 [00:42<00:00,  1.86it/s]\n"
          ],
          "name": "stderr"
        },
        {
          "output_type": "stream",
          "text": [
            "\n",
            "Epoch: 10 Train set: Average loss: 0.945206, Mask loss:0.877909, Depth loss:0.067297, lr:0\n",
            "Epoch: 10 Test set: Average loss: 0.950305, Mask loss:0.878242, Depth loss:0.072063\n",
            "Model saved as Test loss reduced from  0.9503139612040942  to  0.9503046115742454\n"
          ],
          "name": "stdout"
        },
        {
          "output_type": "stream",
          "text": [
            "loss=0.945523 m_loss=0.868559 d_loss=0.076963 batch_id=781: 100%|██████████| 782/782 [16:07<00:00,  1.24s/it]\n",
            "loss=0.943575 m_loss=0.866439 d_loss=0.077135 batch_id=78: 100%|██████████| 79/79 [00:43<00:00,  1.83it/s]\n"
          ],
          "name": "stderr"
        },
        {
          "output_type": "stream",
          "text": [
            "\n",
            "Epoch: 11 Train set: Average loss: 0.945150, Mask loss:0.877903, Depth loss:0.067247, lr:0\n",
            "Epoch: 11 Test set: Average loss: 0.950267, Mask loss:0.878223, Depth loss:0.072044\n",
            "Model saved as Test loss reduced from  0.9503046115742454  to  0.9502670319774483\n"
          ],
          "name": "stdout"
        },
        {
          "output_type": "stream",
          "text": [
            "loss=0.945411 m_loss=0.868546 d_loss=0.076865 batch_id=781: 100%|██████████| 782/782 [16:09<00:00,  1.24s/it]\n",
            "loss=0.943766 m_loss=0.866461 d_loss=0.077305 batch_id=78: 100%|██████████| 79/79 [00:42<00:00,  1.87it/s]\n"
          ],
          "name": "stderr"
        },
        {
          "output_type": "stream",
          "text": [
            "\n",
            "Epoch: 12 Train set: Average loss: 0.945094, Mask loss:0.877896, Depth loss:0.067197, lr:0\n",
            "Epoch: 12 Test set: Average loss: 0.950265, Mask loss:0.878231, Depth loss:0.072034\n",
            "Model saved as Test loss reduced from  0.9502670319774483  to  0.950264927707141\n"
          ],
          "name": "stdout"
        },
        {
          "output_type": "stream",
          "text": [
            "loss=0.945154 m_loss=0.868552 d_loss=0.076602 batch_id=781: 100%|██████████| 782/782 [16:05<00:00,  1.23s/it]\n",
            "loss=0.943641 m_loss=0.866480 d_loss=0.077161 batch_id=78: 100%|██████████| 79/79 [00:42<00:00,  1.87it/s]\n"
          ],
          "name": "stderr"
        },
        {
          "output_type": "stream",
          "text": [
            "\n",
            "Epoch: 13 Train set: Average loss: 0.945041, Mask loss:0.877891, Depth loss:0.067151, lr:0\n",
            "Epoch: 13 Test set: Average loss: 0.950214, Mask loss:0.878217, Depth loss:0.071997\n",
            "Model saved as Test loss reduced from  0.950264927707141  to  0.9502139604544337\n"
          ],
          "name": "stdout"
        },
        {
          "output_type": "stream",
          "text": [
            "loss=0.945182 m_loss=0.868543 d_loss=0.076639 batch_id=781: 100%|██████████| 782/782 [16:08<00:00,  1.24s/it]\n",
            "loss=0.943583 m_loss=0.866442 d_loss=0.077141 batch_id=78: 100%|██████████| 79/79 [00:42<00:00,  1.86it/s]\n"
          ],
          "name": "stderr"
        },
        {
          "output_type": "stream",
          "text": [
            "\n",
            "Epoch: 14 Train set: Average loss: 0.944988, Mask loss:0.877885, Depth loss:0.067103, lr:0\n",
            "Epoch: 14 Test set: Average loss: 0.950192, Mask loss:0.878215, Depth loss:0.071977\n",
            "Model saved as Test loss reduced from  0.9502139604544337  to  0.9501917150956166\n"
          ],
          "name": "stdout"
        },
        {
          "output_type": "stream",
          "text": [
            "loss=0.948978 m_loss=0.882227 d_loss=0.066750 batch_id=597:  76%|███████▋  | 598/782 [12:23<03:46,  1.23s/it]WARNING:wandb.util:requests_with_retry encountered retryable exception: 500 Server Error: Internal Server Error for url: https://api.wandb.ai/files/rajy4683/news5/1cqjuahw/file_stream. args: ('https://api.wandb.ai/files/rajy4683/news5/1cqjuahw/file_stream',), kwargs: {'json': {'files': {'output.log': {'offset': 171, 'content': ['ERROR 2020-05-21T08:31:50.735529 loss=0.956336 m_loss=0.879693 d_loss=0.076643 batch_id=572:  73%|███████▎  | 573/782 [11:52<04:19,  1.24s/it]\\r']}, 'wandb-events.jsonl': {'offset': 472, 'content': ['{\"system.gpu.0.gpu\": 95.4, \"system.gpu.0.memory\": 20.2, \"system.gpu.0.memoryAllocated\": 98.54, \"system.gpu.0.temp\": 72.93, \"system.gpu.0.powerWatts\": 166.84, \"system.gpu.0.powerPercent\": 66.74, \"system.cpu\": 99.93, \"system.memory\": 51.0, \"system.disk\": 61.6, \"system.proc.memory.availableMB\": 6379.84, \"system.proc.memory.rssMB\": 5595.29, \"system.proc.memory.percent\": 42.97, \"system.proc.cpu.threads\": 32.0, \"system.network.sent\": 1157869528, \"system.network.recv\": 73839909, \"_wandb\": true, \"_timestamp\": 1590049891, \"_runtime\": 14851}\\n']}}}}\n",
            "loss=0.941962 m_loss=0.872366 d_loss=0.069597 batch_id=615:  79%|███████▉  | 616/782 [12:45<03:24,  1.23s/it]WARNING:wandb.util:requests_with_retry encountered retryable exception: 500 Server Error: Internal Server Error for url: https://api.wandb.ai/files/rajy4683/news5/1cqjuahw/file_stream. args: ('https://api.wandb.ai/files/rajy4683/news5/1cqjuahw/file_stream',), kwargs: {'json': {'files': {'output.log': {'offset': 171, 'content': ['ERROR 2020-05-21T08:31:50.735529 loss=0.956336 m_loss=0.879693 d_loss=0.076643 batch_id=572:  73%|███████▎  | 573/782 [11:52<04:19,  1.24s/it]\\r']}, 'wandb-events.jsonl': {'offset': 472, 'content': ['{\"system.gpu.0.gpu\": 95.4, \"system.gpu.0.memory\": 20.2, \"system.gpu.0.memoryAllocated\": 98.54, \"system.gpu.0.temp\": 72.93, \"system.gpu.0.powerWatts\": 166.84, \"system.gpu.0.powerPercent\": 66.74, \"system.cpu\": 99.93, \"system.memory\": 51.0, \"system.disk\": 61.6, \"system.proc.memory.availableMB\": 6379.84, \"system.proc.memory.rssMB\": 5595.29, \"system.proc.memory.percent\": 42.97, \"system.proc.cpu.threads\": 32.0, \"system.network.sent\": 1157869528, \"system.network.recv\": 73839909, \"_wandb\": true, \"_timestamp\": 1590049891, \"_runtime\": 14851}\\n']}}}}\n",
            "loss=0.952261 m_loss=0.882566 d_loss=0.069695 batch_id=619:  79%|███████▉  | 620/782 [12:50<03:18,  1.22s/it]WARNING:wandb.util:requests_with_retry encountered retryable exception: 500 Server Error: Internal Server Error for url: https://api.wandb.ai/files/rajy4683/news5/1cqjuahw/file_stream. args: ('https://api.wandb.ai/files/rajy4683/news5/1cqjuahw/file_stream',), kwargs: {'json': {'files': {'output.log': {'offset': 171, 'content': ['ERROR 2020-05-21T08:31:50.735529 loss=0.956336 m_loss=0.879693 d_loss=0.076643 batch_id=572:  73%|███████▎  | 573/782 [11:52<04:19,  1.24s/it]\\r']}, 'wandb-events.jsonl': {'offset': 472, 'content': ['{\"system.gpu.0.gpu\": 95.4, \"system.gpu.0.memory\": 20.2, \"system.gpu.0.memoryAllocated\": 98.54, \"system.gpu.0.temp\": 72.93, \"system.gpu.0.powerWatts\": 166.84, \"system.gpu.0.powerPercent\": 66.74, \"system.cpu\": 99.93, \"system.memory\": 51.0, \"system.disk\": 61.6, \"system.proc.memory.availableMB\": 6379.84, \"system.proc.memory.rssMB\": 5595.29, \"system.proc.memory.percent\": 42.97, \"system.proc.cpu.threads\": 32.0, \"system.network.sent\": 1157869528, \"system.network.recv\": 73839909, \"_wandb\": true, \"_timestamp\": 1590049891, \"_runtime\": 14851}\\n']}}}}\n",
            "loss=0.950867 m_loss=0.875541 d_loss=0.075326 batch_id=627:  80%|████████  | 628/782 [13:00<03:09,  1.23s/it]WARNING:wandb.util:requests_with_retry encountered retryable exception: 500 Server Error: Internal Server Error for url: https://api.wandb.ai/files/rajy4683/news5/1cqjuahw/file_stream. args: ('https://api.wandb.ai/files/rajy4683/news5/1cqjuahw/file_stream',), kwargs: {'json': {'files': {'output.log': {'offset': 171, 'content': ['ERROR 2020-05-21T08:31:50.735529 loss=0.956336 m_loss=0.879693 d_loss=0.076643 batch_id=572:  73%|███████▎  | 573/782 [11:52<04:19,  1.24s/it]\\r']}, 'wandb-events.jsonl': {'offset': 472, 'content': ['{\"system.gpu.0.gpu\": 95.4, \"system.gpu.0.memory\": 20.2, \"system.gpu.0.memoryAllocated\": 98.54, \"system.gpu.0.temp\": 72.93, \"system.gpu.0.powerWatts\": 166.84, \"system.gpu.0.powerPercent\": 66.74, \"system.cpu\": 99.93, \"system.memory\": 51.0, \"system.disk\": 61.6, \"system.proc.memory.availableMB\": 6379.84, \"system.proc.memory.rssMB\": 5595.29, \"system.proc.memory.percent\": 42.97, \"system.proc.cpu.threads\": 32.0, \"system.network.sent\": 1157869528, \"system.network.recv\": 73839909, \"_wandb\": true, \"_timestamp\": 1590049891, \"_runtime\": 14851}\\n']}}}}\n",
            "loss=0.949795 m_loss=0.873589 d_loss=0.076207 batch_id=640:  82%|████████▏ | 641/782 [13:16<02:52,  1.23s/it]WARNING:wandb.util:requests_with_retry encountered retryable exception: 500 Server Error: Internal Server Error for url: https://api.wandb.ai/files/rajy4683/news5/1cqjuahw/file_stream. args: ('https://api.wandb.ai/files/rajy4683/news5/1cqjuahw/file_stream',), kwargs: {'json': {'files': {'output.log': {'offset': 171, 'content': ['ERROR 2020-05-21T08:31:50.735529 loss=0.956336 m_loss=0.879693 d_loss=0.076643 batch_id=572:  73%|███████▎  | 573/782 [11:52<04:19,  1.24s/it]\\r']}, 'wandb-events.jsonl': {'offset': 472, 'content': ['{\"system.gpu.0.gpu\": 95.4, \"system.gpu.0.memory\": 20.2, \"system.gpu.0.memoryAllocated\": 98.54, \"system.gpu.0.temp\": 72.93, \"system.gpu.0.powerWatts\": 166.84, \"system.gpu.0.powerPercent\": 66.74, \"system.cpu\": 99.93, \"system.memory\": 51.0, \"system.disk\": 61.6, \"system.proc.memory.availableMB\": 6379.84, \"system.proc.memory.rssMB\": 5595.29, \"system.proc.memory.percent\": 42.97, \"system.proc.cpu.threads\": 32.0, \"system.network.sent\": 1157869528, \"system.network.recv\": 73839909, \"_wandb\": true, \"_timestamp\": 1590049891, \"_runtime\": 14851}\\n']}}}}\n",
            "loss=0.944977 m_loss=0.868537 d_loss=0.076440 batch_id=781: 100%|██████████| 782/782 [16:07<00:00,  1.24s/it]\n",
            "loss=0.943519 m_loss=0.866470 d_loss=0.077048 batch_id=78: 100%|██████████| 79/79 [00:41<00:00,  1.89it/s]\n"
          ],
          "name": "stderr"
        },
        {
          "output_type": "stream",
          "text": [
            "\n",
            "Epoch: 15 Train set: Average loss: 0.944935, Mask loss:0.877879, Depth loss:0.067056, lr:0\n",
            "Epoch: 15 Test set: Average loss: 0.950156, Mask loss:0.878203, Depth loss:0.071953\n",
            "Model saved as Test loss reduced from  0.9501917150956166  to  0.9501562352421917\n"
          ],
          "name": "stdout"
        },
        {
          "output_type": "stream",
          "text": [
            "loss=0.944811 m_loss=0.868530 d_loss=0.076281 batch_id=781: 100%|██████████| 782/782 [16:07<00:00,  1.24s/it]\n",
            "loss=0.943594 m_loss=0.866466 d_loss=0.077128 batch_id=78: 100%|██████████| 79/79 [00:42<00:00,  1.85it/s]\n"
          ],
          "name": "stderr"
        },
        {
          "output_type": "stream",
          "text": [
            "\n",
            "Epoch: 16 Train set: Average loss: 0.944886, Mask loss:0.877873, Depth loss:0.067013, lr:0\n",
            "Epoch: 16 Test set: Average loss: 0.950135, Mask loss:0.878197, Depth loss:0.071938\n",
            "Model saved as Test loss reduced from  0.9501562352421917  to  0.9501351163357119\n"
          ],
          "name": "stdout"
        },
        {
          "output_type": "stream",
          "text": [
            "loss=0.944675 m_loss=0.868523 d_loss=0.076152 batch_id=781: 100%|██████████| 782/782 [16:08<00:00,  1.24s/it]\n",
            "loss=0.943344 m_loss=0.866457 d_loss=0.076888 batch_id=78: 100%|██████████| 79/79 [00:42<00:00,  1.85it/s]\n"
          ],
          "name": "stderr"
        },
        {
          "output_type": "stream",
          "text": [
            "\n",
            "Epoch: 17 Train set: Average loss: 0.944836, Mask loss:0.877868, Depth loss:0.066969, lr:0\n",
            "Epoch: 17 Test set: Average loss: 0.950093, Mask loss:0.878186, Depth loss:0.071907\n",
            "Model saved as Test loss reduced from  0.9501351163357119  to  0.9500927993013889\n"
          ],
          "name": "stdout"
        },
        {
          "output_type": "stream",
          "text": [
            "loss=0.944548 m_loss=0.868491 d_loss=0.076057 batch_id=781: 100%|██████████| 782/782 [16:09<00:00,  1.24s/it]\n",
            "loss=0.943212 m_loss=0.866408 d_loss=0.076804 batch_id=78: 100%|██████████| 79/79 [00:42<00:00,  1.85it/s]\n"
          ],
          "name": "stderr"
        },
        {
          "output_type": "stream",
          "text": [
            "\n",
            "Epoch: 18 Train set: Average loss: 0.944788, Mask loss:0.877863, Depth loss:0.066925, lr:0\n",
            "Epoch: 18 Test set: Average loss: 0.950062, Mask loss:0.878175, Depth loss:0.071887\n",
            "Model saved as Test loss reduced from  0.9500927993013889  to  0.9500619995443127\n"
          ],
          "name": "stdout"
        },
        {
          "output_type": "stream",
          "text": [
            "loss=0.944355 m_loss=0.868489 d_loss=0.075866 batch_id=781: 100%|██████████| 782/782 [16:08<00:00,  1.24s/it]\n",
            "loss=0.943497 m_loss=0.866417 d_loss=0.077080 batch_id=78: 100%|██████████| 79/79 [00:41<00:00,  1.90it/s]\n"
          ],
          "name": "stderr"
        },
        {
          "output_type": "stream",
          "text": [
            "\n",
            "Epoch: 19 Train set: Average loss: 0.944738, Mask loss:0.877857, Depth loss:0.066881, lr:0\n",
            "Epoch: 19 Test set: Average loss: 0.950059, Mask loss:0.878175, Depth loss:0.071883\n",
            "Model saved as Test loss reduced from  0.9500619995443127  to  0.95005855681021\n"
          ],
          "name": "stdout"
        },
        {
          "output_type": "stream",
          "text": [
            "loss=0.944170 m_loss=0.868466 d_loss=0.075704 batch_id=781: 100%|██████████| 782/782 [16:07<00:00,  1.24s/it]\n",
            "loss=0.943662 m_loss=0.866410 d_loss=0.077252 batch_id=78: 100%|██████████| 79/79 [00:42<00:00,  1.87it/s]\n"
          ],
          "name": "stderr"
        },
        {
          "output_type": "stream",
          "text": [
            "\n",
            "Epoch: 20 Train set: Average loss: 0.944690, Mask loss:0.877852, Depth loss:0.066838, lr:0\n",
            "Epoch: 20 Test set: Average loss: 0.950032, Mask loss:0.878177, Depth loss:0.071856\n",
            "Model saved as Test loss reduced from  0.95005855681021  to  0.9500321180005616\n"
          ],
          "name": "stdout"
        },
        {
          "output_type": "stream",
          "text": [
            "loss=0.943885 m_loss=0.868459 d_loss=0.075426 batch_id=781: 100%|██████████| 782/782 [16:05<00:00,  1.23s/it]\n",
            "loss=0.943568 m_loss=0.866416 d_loss=0.077151 batch_id=78: 100%|██████████| 79/79 [00:42<00:00,  1.87it/s]\n"
          ],
          "name": "stderr"
        },
        {
          "output_type": "stream",
          "text": [
            "\n",
            "Epoch: 21 Train set: Average loss: 0.944641, Mask loss:0.877846, Depth loss:0.066795, lr:0\n",
            "Epoch: 21 Test set: Average loss: 0.950013, Mask loss:0.878174, Depth loss:0.071839\n",
            "Model saved as Test loss reduced from  0.9500321180005616  to  0.9500128679637667\n"
          ],
          "name": "stdout"
        },
        {
          "output_type": "stream",
          "text": [
            "loss=0.943880 m_loss=0.868442 d_loss=0.075438 batch_id=781: 100%|██████████| 782/782 [16:05<00:00,  1.23s/it]\n",
            "loss=0.943718 m_loss=0.866430 d_loss=0.077289 batch_id=78: 100%|██████████| 79/79 [00:42<00:00,  1.85it/s]\n"
          ],
          "name": "stderr"
        },
        {
          "output_type": "stream",
          "text": [
            "\n",
            "Epoch: 22 Train set: Average loss: 0.944594, Mask loss:0.877841, Depth loss:0.066753, lr:0\n",
            "Epoch: 22 Test set: Average loss: 0.949999, Mask loss:0.878171, Depth loss:0.071828\n",
            "Model saved as Test loss reduced from  0.9500128679637667  to  0.9499994969066186\n"
          ],
          "name": "stdout"
        },
        {
          "output_type": "stream",
          "text": [
            "loss=0.943738 m_loss=0.868432 d_loss=0.075306 batch_id=781: 100%|██████████| 782/782 [16:06<00:00,  1.24s/it]\n",
            "loss=0.943726 m_loss=0.866412 d_loss=0.077313 batch_id=78: 100%|██████████| 79/79 [00:42<00:00,  1.88it/s]\n"
          ],
          "name": "stderr"
        },
        {
          "output_type": "stream",
          "text": [
            "\n",
            "Epoch: 23 Train set: Average loss: 0.944549, Mask loss:0.877836, Depth loss:0.066713, lr:0\n",
            "Epoch: 23 Test set: Average loss: 0.949973, Mask loss:0.878167, Depth loss:0.071806\n",
            "Model saved as Test loss reduced from  0.9499994969066186  to  0.9499731659889221\n"
          ],
          "name": "stdout"
        },
        {
          "output_type": "stream",
          "text": [
            "loss=0.943685 m_loss=0.868415 d_loss=0.075269 batch_id=781: 100%|██████████| 782/782 [16:04<00:00,  1.23s/it]\n",
            "loss=0.943901 m_loss=0.866390 d_loss=0.077511 batch_id=78: 100%|██████████| 79/79 [00:41<00:00,  1.90it/s]\n"
          ],
          "name": "stderr"
        },
        {
          "output_type": "stream",
          "text": [
            "\n",
            "Epoch: 24 Train set: Average loss: 0.944503, Mask loss:0.877831, Depth loss:0.066672, lr:0\n",
            "Epoch: 24 Test set: Average loss: 0.949933, Mask loss:0.878158, Depth loss:0.071776\n",
            "Model saved as Test loss reduced from  0.9499731659889221  to  0.9499333576311039\n"
          ],
          "name": "stdout"
        },
        {
          "output_type": "stream",
          "text": [
            "loss=0.943610 m_loss=0.868426 d_loss=0.075184 batch_id=781: 100%|██████████| 782/782 [16:03<00:00,  1.23s/it]\n",
            "loss=0.943799 m_loss=0.866383 d_loss=0.077416 batch_id=78: 100%|██████████| 79/79 [00:41<00:00,  1.92it/s]\n"
          ],
          "name": "stderr"
        },
        {
          "output_type": "stream",
          "text": [
            "\n",
            "Epoch: 25 Train set: Average loss: 0.944459, Mask loss:0.877827, Depth loss:0.066632, lr:0\n",
            "Epoch: 25 Test set: Average loss: 0.949919, Mask loss:0.878156, Depth loss:0.071763\n",
            "Model saved as Test loss reduced from  0.9499333576311039  to  0.9499189197262631\n"
          ],
          "name": "stdout"
        },
        {
          "output_type": "stream",
          "text": [
            "loss=0.943431 m_loss=0.868413 d_loss=0.075018 batch_id=781: 100%|██████████| 782/782 [16:04<00:00,  1.23s/it]\n",
            "loss=0.943831 m_loss=0.866371 d_loss=0.077460 batch_id=78: 100%|██████████| 79/79 [00:41<00:00,  1.89it/s]\n"
          ],
          "name": "stderr"
        },
        {
          "output_type": "stream",
          "text": [
            "\n",
            "Epoch: 26 Train set: Average loss: 0.944418, Mask loss:0.877822, Depth loss:0.066595, lr:0\n",
            "Epoch: 26 Test set: Average loss: 0.949883, Mask loss:0.878145, Depth loss:0.071738\n",
            "Model saved as Test loss reduced from  0.9499189197262631  to  0.9498828076109102\n"
          ],
          "name": "stdout"
        },
        {
          "output_type": "stream",
          "text": [
            "loss=0.943366 m_loss=0.868414 d_loss=0.074952 batch_id=781: 100%|██████████| 782/782 [16:03<00:00,  1.23s/it]\n",
            "loss=0.943761 m_loss=0.866375 d_loss=0.077386 batch_id=78: 100%|██████████| 79/79 [00:41<00:00,  1.88it/s]\n"
          ],
          "name": "stderr"
        },
        {
          "output_type": "stream",
          "text": [
            "\n",
            "Epoch: 27 Train set: Average loss: 0.944373, Mask loss:0.877817, Depth loss:0.066556, lr:0\n",
            "Epoch: 27 Test set: Average loss: 0.949867, Mask loss:0.878140, Depth loss:0.071727\n",
            "Model saved as Test loss reduced from  0.9498828076109102  to  0.9498669346676597\n"
          ],
          "name": "stdout"
        },
        {
          "output_type": "stream",
          "text": [
            "loss=0.943196 m_loss=0.868419 d_loss=0.074777 batch_id=781: 100%|██████████| 782/782 [16:04<00:00,  1.23s/it]\n",
            "loss=0.943567 m_loss=0.866378 d_loss=0.077188 batch_id=78: 100%|██████████| 79/79 [00:41<00:00,  1.89it/s]\n"
          ],
          "name": "stderr"
        },
        {
          "output_type": "stream",
          "text": [
            "\n",
            "Epoch: 28 Train set: Average loss: 0.944334, Mask loss:0.877813, Depth loss:0.066521, lr:0\n",
            "Epoch: 28 Test set: Average loss: 0.949858, Mask loss:0.878142, Depth loss:0.071716\n",
            "Model saved as Test loss reduced from  0.9498669346676597  to  0.9498576521873474\n"
          ],
          "name": "stdout"
        },
        {
          "output_type": "stream",
          "text": [
            "loss=0.943012 m_loss=0.868402 d_loss=0.074609 batch_id=781: 100%|██████████| 782/782 [16:04<00:00,  1.23s/it]\n",
            "loss=0.943493 m_loss=0.866361 d_loss=0.077132 batch_id=78: 100%|██████████| 79/79 [00:42<00:00,  1.87it/s]\n"
          ],
          "name": "stderr"
        },
        {
          "output_type": "stream",
          "text": [
            "\n",
            "Epoch: 29 Train set: Average loss: 0.944292, Mask loss:0.877808, Depth loss:0.066484, lr:0\n",
            "Epoch: 29 Test set: Average loss: 0.949835, Mask loss:0.878132, Depth loss:0.071704\n",
            "Model saved as Test loss reduced from  0.9498576521873474  to  0.9498354136189328\n"
          ],
          "name": "stdout"
        },
        {
          "output_type": "stream",
          "text": [
            "loss=0.942916 m_loss=0.868397 d_loss=0.074518 batch_id=781: 100%|██████████| 782/782 [16:08<00:00,  1.24s/it]\n",
            "loss=0.943419 m_loss=0.866353 d_loss=0.077066 batch_id=78: 100%|██████████| 79/79 [00:42<00:00,  1.88it/s]\n"
          ],
          "name": "stderr"
        },
        {
          "output_type": "stream",
          "text": [
            "\n",
            "Epoch: 30 Train set: Average loss: 0.944249, Mask loss:0.877804, Depth loss:0.066445, lr:0\n",
            "Epoch: 30 Test set: Average loss: 0.949812, Mask loss:0.878131, Depth loss:0.071680\n",
            "Model saved as Test loss reduced from  0.9498354136189328  to  0.9498116592817669\n"
          ],
          "name": "stdout"
        },
        {
          "output_type": "stream",
          "text": [
            "loss=0.942703 m_loss=0.868362 d_loss=0.074340 batch_id=781: 100%|██████████| 782/782 [16:05<00:00,  1.23s/it]\n",
            "loss=0.943211 m_loss=0.866365 d_loss=0.076845 batch_id=78: 100%|██████████| 79/79 [00:42<00:00,  1.88it/s]\n"
          ],
          "name": "stderr"
        },
        {
          "output_type": "stream",
          "text": [
            "\n",
            "Epoch: 31 Train set: Average loss: 0.944211, Mask loss:0.877800, Depth loss:0.066411, lr:0\n",
            "Epoch: 31 Test set: Average loss: 0.949778, Mask loss:0.878125, Depth loss:0.071653\n",
            "Model saved as Test loss reduced from  0.9498116592817669  to  0.9497777548017381\n"
          ],
          "name": "stdout"
        },
        {
          "output_type": "stream",
          "text": [
            "loss=0.944057 m_loss=0.881055 d_loss=0.063002 batch_id=271:  35%|███▍      | 272/782 [05:44<10:17,  1.21s/it]"
          ],
          "name": "stderr"
        }
      ]
    },
    {
      "cell_type": "markdown",
      "metadata": {
        "id": "v3Sm5Nx_EL_s",
        "colab_type": "text"
      },
      "source": [
        "### Training Stage 3 - 0K to 100K"
      ]
    },
    {
      "cell_type": "code",
      "metadata": {
        "colab_type": "code",
        "outputId": "e3cb3383-da28-405e-9dc9-e9a5279a2091",
        "id": "6xDSRw-rEDcI",
        "colab": {
          "base_uri": "https://localhost:8080/",
          "height": 1000
        }
      },
      "source": [
        "######## OCP \n",
        "from RekogNizer import mmdmodels\n",
        "device = torch.device(\"cuda\" if not hyperparams.hyperparameter_defaults['no_cuda'] else \"cpu\")\n",
        "tqdm._instances.clear()\n",
        "hyperparams.set_hyperparam({\"epochs\":10})\n",
        "\n",
        "hyperparams.hyperparameter_defaults['run_name'] = fileutils.rand_run_name()\n",
        "hyperparams.hyperparameter_defaults['epochs'] = 20\n",
        "hyperparams.hyperparameter_defaults['lr'] = 0.02754228703338166 #0.1\n",
        "hyperparams.hyperparameter_defaults['ocp_max_lr'] = 0.02754228703338166 #0.1\n",
        "\n",
        "print(\"Initializing datasets and dataloaders\")    \n",
        "\n",
        "#model_new =  mmdmodels.UNet(n_channels=6, n_classes=2)\n",
        "wandb_run_init = wandb.init(config=hyperparams.hyperparameter_defaults, \n",
        "                            project=hyperparams.hyperparameter_defaults['project'])\n",
        "#wandb.watch_called = False\n",
        "config = wandb.config\n",
        "print(config)\n",
        "#wandb.watch(model_new, log=\"none\")\n",
        "\n",
        "# optimizer=optim.SGD(model_new.parameters(), lr=config.lr,momentum=config.momentum,\n",
        "#                         weight_decay=0)\n",
        "optimizer=optim.SGD(expand_model.parameters(), lr=config.lr,momentum=config.momentum,\n",
        "                        weight_decay=2e-5)\n",
        "#expand_model_params\n",
        "# criterion={\"mask\":[mmdlosses.dice_loss, mmdlosses.LocalBCELoss, mmdlosses.LocalPixelLoss], \n",
        "#            \"depth\":[mmdlosses.LocalRMSELoss, mmdlosses.LocalSSIMLoss]}\n",
        "\n",
        "#criterion={\"mask\":[mmdlosses.dice_loss, mmdlosses.LocalL1Loss], \n",
        "#           \"depth\":[mmdlosses.LocalRMSELoss, mmdlosses.LocalSSIMLoss]}\n",
        "\n",
        "criterion={\"mask\":[mmdlosses.dice_loss, mmdlosses.LocalL1Loss], \n",
        "           \"depth\":[mmdlosses.LocalRMSELoss, mmdlosses.LocalSSIMLoss]}\n",
        "\n",
        "\n",
        "#scheduler = ReduceLROnPlateau(optimizer, mode='min', factor=0.5, patience=2, verbose=True, threshold=0.0001)\n",
        "scheduler = OneCycleLR(optimizer, \n",
        "                        config.ocp_max_lr, \n",
        "                        epochs=config.epochs, \n",
        "                        cycle_momentum=True, \n",
        "                        steps_per_epoch=len(train_loader), \n",
        "                        base_momentum=config.momentum,\n",
        "                        max_momentum=0.95, \n",
        "                        pct_start=0.208,\n",
        "                        anneal_strategy=config.anneal_strategy,\n",
        "                        div_factor=config.div_factor,\n",
        "                        final_div_factor=config.final_div_factor\n",
        "                           )\n",
        "\n",
        "final_model_path = mmdtraintest.execute_model(expand_model, \n",
        "            hyperparams.hyperparameter_defaults, \n",
        "            train_loader, test_loader, \n",
        "            device, \n",
        "            wandb=wandb,\n",
        "            optimizer_in=optimizer,\n",
        "            scheduler=scheduler,\n",
        "            prev_saved_model=None,\n",
        "            criterion=criterion,\n",
        "            save_best=True,\n",
        "            lars_mode=False,\n",
        "            batch_step=True)"
      ],
      "execution_count": 0,
      "outputs": [
        {
          "output_type": "stream",
          "text": [
            "Initializing datasets and dataloaders\n"
          ],
          "name": "stdout"
        },
        {
          "output_type": "display_data",
          "data": {
            "text/html": [
              "\n",
              "                Logging results to <a href=\"https://wandb.com\" target=\"_blank\">Weights & Biases</a> <a href=\"https://docs.wandb.com/integrations/jupyter.html\" target=\"_blank\">(Documentation)</a>.<br/>\n",
              "                Project page: <a href=\"https://app.wandb.ai/rajy4683/news5\" target=\"_blank\">https://app.wandb.ai/rajy4683/news5</a><br/>\n",
              "                Run page: <a href=\"https://app.wandb.ai/rajy4683/news5/runs/3ofkda7s\" target=\"_blank\">https://app.wandb.ai/rajy4683/news5/runs/3ofkda7s</a><br/>\n",
              "            "
            ],
            "text/plain": [
              "<IPython.core.display.HTML object>"
            ]
          },
          "metadata": {
            "tags": []
          }
        },
        {
          "output_type": "stream",
          "text": [
            "\r  0%|          | 0/782 [00:00<?, ?it/s]"
          ],
          "name": "stderr"
        },
        {
          "output_type": "stream",
          "text": [
            "wandb_version: 1\n",
            "\n",
            "_wandb:\n",
            "  desc: null\n",
            "  value:\n",
            "    cli_version: 0.8.36\n",
            "    framework: torch\n",
            "    is_jupyter_run: true\n",
            "    is_kaggle_kernel: false\n",
            "    python_version: 3.6.9\n",
            "anneal_strategy:\n",
            "  desc: null\n",
            "  value: linear\n",
            "batch_size:\n",
            "  desc: null\n",
            "  value: 512\n",
            "bias:\n",
            "  desc: null\n",
            "  value: false\n",
            "cycle_momentum:\n",
            "  desc: null\n",
            "  value: false\n",
            "div_factor:\n",
            "  desc: null\n",
            "  value: 128\n",
            "dropout:\n",
            "  desc: null\n",
            "  value: 0.1\n",
            "epochs:\n",
            "  desc: null\n",
            "  value: 20\n",
            "factor:\n",
            "  desc: null\n",
            "  value: 0.0\n",
            "final_div_factor:\n",
            "  desc: null\n",
            "  value: 64\n",
            "lr:\n",
            "  desc: null\n",
            "  value: 0.02754228703338166\n",
            "lr_decay_threshold:\n",
            "  desc: null\n",
            "  value: 0.0\n",
            "lr_policy:\n",
            "  desc: null\n",
            "  value: ocp\n",
            "momentum:\n",
            "  desc: null\n",
            "  value: 0.9\n",
            "no_cuda:\n",
            "  desc: null\n",
            "  value: false\n",
            "ocp_max_lr:\n",
            "  desc: null\n",
            "  value: 0.02754228703338166\n",
            "pct_start:\n",
            "  desc: null\n",
            "  value: 0.208\n",
            "project:\n",
            "  desc: null\n",
            "  value: news5\n",
            "run_name:\n",
            "  desc: null\n",
            "  value: 2ff807d1d0\n",
            "sched_lr_gamma:\n",
            "  desc: null\n",
            "  value: 0.5\n",
            "sched_lr_step:\n",
            "  desc: null\n",
            "  value: 1\n",
            "seed:\n",
            "  desc: null\n",
            "  value: 1\n",
            "split_pct:\n",
            "  desc: null\n",
            "  value: 0.208\n",
            "start_lr:\n",
            "  desc: null\n",
            "  value: 0\n",
            "test_batch_size:\n",
            "  desc: null\n",
            "  value: 128\n",
            "weight_decay:\n",
            "  desc: null\n",
            "  value: 0.0\n",
            "\n",
            "Model saved to:  /content/drive/My Drive/EVA4/model_saves/model-2ff807d1d0.h5\n"
          ],
          "name": "stdout"
        },
        {
          "output_type": "stream",
          "text": [
            "loss=0.932968 m_loss=0.865871 d_loss=0.067097 batch_id=781: 100%|██████████| 782/782 [08:33<00:00,  1.52it/s]\n",
            "loss=0.928180 m_loss=0.847097 d_loss=0.081083 batch_id=31: 100%|██████████| 32/32 [00:20<00:00,  1.57it/s]\n"
          ],
          "name": "stderr"
        },
        {
          "output_type": "stream",
          "text": [
            "\n",
            "Epoch: 1 Train set: Average loss: 0.936255, Mask loss:0.875026, Depth loss:0.061230, lr:0\n",
            "Epoch: 1 Test set: Average loss: 0.941049, Mask loss:0.875676, Depth loss:0.065372\n",
            "Model saved as Test loss reduced from  10000.0  to  0.9410485625267029\n"
          ],
          "name": "stdout"
        },
        {
          "output_type": "stream",
          "text": [
            "loss=0.928072 m_loss=0.866001 d_loss=0.062071 batch_id=781: 100%|██████████| 782/782 [08:33<00:00,  1.52it/s]\n",
            "loss=0.927850 m_loss=0.846859 d_loss=0.080991 batch_id=31: 100%|██████████| 32/32 [00:20<00:00,  1.58it/s]\n"
          ],
          "name": "stderr"
        },
        {
          "output_type": "stream",
          "text": [
            "\n",
            "Epoch: 2 Train set: Average loss: 0.935293, Mask loss:0.874985, Depth loss:0.060309, lr:0\n",
            "Epoch: 2 Test set: Average loss: 0.940785, Mask loss:0.875424, Depth loss:0.065361\n",
            "Model saved as Test loss reduced from  0.9410485625267029  to  0.9407854676246643\n"
          ],
          "name": "stdout"
        },
        {
          "output_type": "stream",
          "text": [
            "loss=0.925003 m_loss=0.865461 d_loss=0.059542 batch_id=781: 100%|██████████| 782/782 [08:28<00:00,  1.54it/s]\n",
            "loss=0.928130 m_loss=0.847066 d_loss=0.081063 batch_id=31: 100%|██████████| 32/32 [00:20<00:00,  1.60it/s]\n",
            "  0%|          | 0/782 [00:00<?, ?it/s]"
          ],
          "name": "stderr"
        },
        {
          "output_type": "stream",
          "text": [
            "\n",
            "Epoch: 3 Train set: Average loss: 0.934516, Mask loss:0.874950, Depth loss:0.059567, lr:0\n",
            "Epoch: 3 Test set: Average loss: 0.940981, Mask loss:0.875617, Depth loss:0.065364\n"
          ],
          "name": "stdout"
        },
        {
          "output_type": "stream",
          "text": [
            "loss=0.923108 m_loss=0.865198 d_loss=0.057910 batch_id=781: 100%|██████████| 782/782 [08:26<00:00,  1.54it/s]\n",
            "loss=0.928079 m_loss=0.846961 d_loss=0.081118 batch_id=31: 100%|██████████| 32/32 [00:19<00:00,  1.61it/s]\n",
            "  0%|          | 0/782 [00:00<?, ?it/s]"
          ],
          "name": "stderr"
        },
        {
          "output_type": "stream",
          "text": [
            "\n",
            "Epoch: 4 Train set: Average loss: 0.933729, Mask loss:0.874795, Depth loss:0.058935, lr:0\n",
            "Epoch: 4 Test set: Average loss: 0.940874, Mask loss:0.875492, Depth loss:0.065382\n"
          ],
          "name": "stdout"
        },
        {
          "output_type": "stream",
          "text": [
            "loss=0.922194 m_loss=0.865505 d_loss=0.056689 batch_id=781: 100%|██████████| 782/782 [08:26<00:00,  1.54it/s]\n",
            "loss=0.928582 m_loss=0.847425 d_loss=0.081157 batch_id=31: 100%|██████████| 32/32 [00:19<00:00,  1.61it/s]\n",
            "  0%|          | 0/782 [00:00<?, ?it/s]"
          ],
          "name": "stderr"
        },
        {
          "output_type": "stream",
          "text": [
            "\n",
            "Epoch: 5 Train set: Average loss: 0.933192, Mask loss:0.874818, Depth loss:0.058374, lr:0\n",
            "Epoch: 5 Test set: Average loss: 0.941353, Mask loss:0.875936, Depth loss:0.065417\n"
          ],
          "name": "stdout"
        },
        {
          "output_type": "stream",
          "text": [
            "loss=0.920931 m_loss=0.865241 d_loss=0.055690 batch_id=781: 100%|██████████| 782/782 [08:27<00:00,  1.54it/s]\n",
            "loss=0.928139 m_loss=0.846982 d_loss=0.081157 batch_id=31: 100%|██████████| 32/32 [00:20<00:00,  1.59it/s]\n",
            "  0%|          | 0/782 [00:00<?, ?it/s]"
          ],
          "name": "stderr"
        },
        {
          "output_type": "stream",
          "text": [
            "\n",
            "Epoch: 6 Train set: Average loss: 0.932628, Mask loss:0.874761, Depth loss:0.057867, lr:0\n",
            "Epoch: 6 Test set: Average loss: 0.940929, Mask loss:0.875482, Depth loss:0.065447\n"
          ],
          "name": "stdout"
        },
        {
          "output_type": "stream",
          "text": [
            "loss=0.920274 m_loss=0.865407 d_loss=0.054867 batch_id=781: 100%|██████████| 782/782 [08:27<00:00,  1.54it/s]\n",
            "loss=0.928392 m_loss=0.847224 d_loss=0.081168 batch_id=31: 100%|██████████| 32/32 [00:19<00:00,  1.62it/s]\n",
            "  0%|          | 0/782 [00:00<?, ?it/s]"
          ],
          "name": "stderr"
        },
        {
          "output_type": "stream",
          "text": [
            "\n",
            "Epoch: 7 Train set: Average loss: 0.932124, Mask loss:0.874721, Depth loss:0.057402, lr:0\n",
            "Epoch: 7 Test set: Average loss: 0.941214, Mask loss:0.875733, Depth loss:0.065480\n"
          ],
          "name": "stdout"
        },
        {
          "output_type": "stream",
          "text": [
            "loss=0.918826 m_loss=0.864681 d_loss=0.054145 batch_id=781: 100%|██████████| 782/782 [08:31<00:00,  1.53it/s]\n",
            "loss=0.928083 m_loss=0.846877 d_loss=0.081206 batch_id=31: 100%|██████████| 32/32 [00:20<00:00,  1.55it/s]\n",
            "  0%|          | 0/782 [00:00<?, ?it/s]"
          ],
          "name": "stderr"
        },
        {
          "output_type": "stream",
          "text": [
            "\n",
            "Epoch: 8 Train set: Average loss: 0.931657, Mask loss:0.874686, Depth loss:0.056972, lr:0\n",
            "Epoch: 8 Test set: Average loss: 0.940875, Mask loss:0.875361, Depth loss:0.065514\n"
          ],
          "name": "stdout"
        },
        {
          "output_type": "stream",
          "text": [
            "loss=0.918215 m_loss=0.864722 d_loss=0.053494 batch_id=781: 100%|██████████| 782/782 [08:29<00:00,  1.54it/s]\n",
            "loss=0.928115 m_loss=0.846882 d_loss=0.081233 batch_id=31: 100%|██████████| 32/32 [00:20<00:00,  1.60it/s]\n",
            "  0%|          | 0/782 [00:00<?, ?it/s]"
          ],
          "name": "stderr"
        },
        {
          "output_type": "stream",
          "text": [
            "\n",
            "Epoch: 9 Train set: Average loss: 0.931249, Mask loss:0.874677, Depth loss:0.056571, lr:0\n",
            "Epoch: 9 Test set: Average loss: 0.940911, Mask loss:0.875360, Depth loss:0.065551\n"
          ],
          "name": "stdout"
        },
        {
          "output_type": "stream",
          "text": [
            "loss=0.917614 m_loss=0.864711 d_loss=0.052903 batch_id=781: 100%|██████████| 782/782 [08:28<00:00,  1.54it/s]\n",
            "loss=0.928224 m_loss=0.846967 d_loss=0.081258 batch_id=31: 100%|██████████| 32/32 [00:19<00:00,  1.60it/s]\n",
            "  0%|          | 0/782 [00:00<?, ?it/s]"
          ],
          "name": "stderr"
        },
        {
          "output_type": "stream",
          "text": [
            "\n",
            "Epoch: 10 Train set: Average loss: 0.930808, Mask loss:0.874613, Depth loss:0.056195, lr:0\n",
            "Epoch: 10 Test set: Average loss: 0.941032, Mask loss:0.875442, Depth loss:0.065590\n"
          ],
          "name": "stdout"
        },
        {
          "output_type": "stream",
          "text": [
            "loss=0.917048 m_loss=0.864669 d_loss=0.052379 batch_id=781: 100%|██████████| 782/782 [08:27<00:00,  1.54it/s]\n",
            "loss=0.928283 m_loss=0.846973 d_loss=0.081310 batch_id=31: 100%|██████████| 32/32 [00:20<00:00,  1.60it/s]\n",
            "  0%|          | 0/782 [00:00<?, ?it/s]"
          ],
          "name": "stderr"
        },
        {
          "output_type": "stream",
          "text": [
            "\n",
            "Epoch: 11 Train set: Average loss: 0.930418, Mask loss:0.874576, Depth loss:0.055841, lr:0\n",
            "Epoch: 11 Test set: Average loss: 0.941069, Mask loss:0.875442, Depth loss:0.065626\n"
          ],
          "name": "stdout"
        },
        {
          "output_type": "stream",
          "text": [
            "loss=0.916371 m_loss=0.864471 d_loss=0.051900 batch_id=781: 100%|██████████| 782/782 [08:27<00:00,  1.54it/s]\n",
            "loss=0.928265 m_loss=0.846897 d_loss=0.081368 batch_id=31: 100%|██████████| 32/32 [00:19<00:00,  1.62it/s]\n",
            "  0%|          | 0/782 [00:00<?, ?it/s]"
          ],
          "name": "stderr"
        },
        {
          "output_type": "stream",
          "text": [
            "\n",
            "Epoch: 12 Train set: Average loss: 0.930093, Mask loss:0.874589, Depth loss:0.055506, lr:0\n",
            "Epoch: 12 Test set: Average loss: 0.941011, Mask loss:0.875347, Depth loss:0.065665\n"
          ],
          "name": "stdout"
        },
        {
          "output_type": "stream",
          "text": [
            "loss=0.915783 m_loss=0.864319 d_loss=0.051464 batch_id=781: 100%|██████████| 782/782 [08:25<00:00,  1.55it/s]\n",
            "loss=0.928529 m_loss=0.847145 d_loss=0.081384 batch_id=31: 100%|██████████| 32/32 [00:20<00:00,  1.59it/s]\n",
            "  0%|          | 0/782 [00:00<?, ?it/s]"
          ],
          "name": "stderr"
        },
        {
          "output_type": "stream",
          "text": [
            "\n",
            "Epoch: 13 Train set: Average loss: 0.929755, Mask loss:0.874567, Depth loss:0.055188, lr:0\n",
            "Epoch: 13 Test set: Average loss: 0.941306, Mask loss:0.875607, Depth loss:0.065699\n"
          ],
          "name": "stdout"
        },
        {
          "output_type": "stream",
          "text": [
            "loss=0.916066 m_loss=0.865003 d_loss=0.051064 batch_id=781: 100%|██████████| 782/782 [08:26<00:00,  1.54it/s]\n",
            "loss=0.929407 m_loss=0.847969 d_loss=0.081438 batch_id=31: 100%|██████████| 32/32 [00:19<00:00,  1.61it/s]\n",
            "  0%|          | 0/782 [00:00<?, ?it/s]"
          ],
          "name": "stderr"
        },
        {
          "output_type": "stream",
          "text": [
            "\n",
            "Epoch: 14 Train set: Average loss: 0.929444, Mask loss:0.874559, Depth loss:0.054885, lr:0\n",
            "Epoch: 14 Test set: Average loss: 0.942136, Mask loss:0.876402, Depth loss:0.065734\n"
          ],
          "name": "stdout"
        },
        {
          "output_type": "stream",
          "text": [
            "loss=0.914796 m_loss=0.864112 d_loss=0.050684 batch_id=781: 100%|██████████| 782/782 [08:25<00:00,  1.55it/s]\n",
            "loss=0.928382 m_loss=0.846897 d_loss=0.081485 batch_id=31: 100%|██████████| 32/32 [00:19<00:00,  1.60it/s]\n",
            "  0%|          | 0/782 [00:00<?, ?it/s]"
          ],
          "name": "stderr"
        },
        {
          "output_type": "stream",
          "text": [
            "\n",
            "Epoch: 15 Train set: Average loss: 0.929114, Mask loss:0.874518, Depth loss:0.054596, lr:0\n",
            "Epoch: 15 Test set: Average loss: 0.941086, Mask loss:0.875319, Depth loss:0.065766\n"
          ],
          "name": "stdout"
        },
        {
          "output_type": "stream",
          "text": [
            "loss=0.914336 m_loss=0.864000 d_loss=0.050335 batch_id=781: 100%|██████████| 782/782 [08:27<00:00,  1.54it/s]\n",
            "loss=0.928426 m_loss=0.846902 d_loss=0.081524 batch_id=31: 100%|██████████| 32/32 [00:19<00:00,  1.60it/s]\n",
            "  0%|          | 0/782 [00:00<?, ?it/s]"
          ],
          "name": "stderr"
        },
        {
          "output_type": "stream",
          "text": [
            "\n",
            "Epoch: 16 Train set: Average loss: 0.928777, Mask loss:0.874456, Depth loss:0.054321, lr:0\n",
            "Epoch: 16 Test set: Average loss: 0.941125, Mask loss:0.875325, Depth loss:0.065800\n"
          ],
          "name": "stdout"
        },
        {
          "output_type": "stream",
          "text": [
            "loss=0.914146 m_loss=0.864140 d_loss=0.050007 batch_id=781: 100%|██████████| 782/782 [08:27<00:00,  1.54it/s]\n",
            "loss=0.928759 m_loss=0.847167 d_loss=0.081593 batch_id=31: 100%|██████████| 32/32 [00:20<00:00,  1.58it/s]\n",
            "  0%|          | 0/782 [00:00<?, ?it/s]"
          ],
          "name": "stderr"
        },
        {
          "output_type": "stream",
          "text": [
            "\n",
            "Epoch: 17 Train set: Average loss: 0.928483, Mask loss:0.874425, Depth loss:0.054058, lr:0\n",
            "Epoch: 17 Test set: Average loss: 0.941440, Mask loss:0.875604, Depth loss:0.065835\n"
          ],
          "name": "stdout"
        },
        {
          "output_type": "stream",
          "text": [
            "loss=0.913826 m_loss=0.864131 d_loss=0.049695 batch_id=781: 100%|██████████| 782/782 [08:26<00:00,  1.54it/s]\n",
            "loss=0.928816 m_loss=0.847155 d_loss=0.081661 batch_id=31: 100%|██████████| 32/32 [00:19<00:00,  1.61it/s]\n",
            "  0%|          | 0/782 [00:00<?, ?it/s]"
          ],
          "name": "stderr"
        },
        {
          "output_type": "stream",
          "text": [
            "\n",
            "Epoch: 18 Train set: Average loss: 0.928300, Mask loss:0.874496, Depth loss:0.053805, lr:0\n",
            "Epoch: 18 Test set: Average loss: 0.941437, Mask loss:0.875568, Depth loss:0.065869\n"
          ],
          "name": "stdout"
        },
        {
          "output_type": "stream",
          "text": [
            "loss=0.913453 m_loss=0.864050 d_loss=0.049403 batch_id=781: 100%|██████████| 782/782 [08:26<00:00,  1.54it/s]\n",
            "loss=0.928623 m_loss=0.846919 d_loss=0.081703 batch_id=31: 100%|██████████| 32/32 [00:20<00:00,  1.57it/s]\n",
            "  0%|          | 0/782 [00:00<?, ?it/s]"
          ],
          "name": "stderr"
        },
        {
          "output_type": "stream",
          "text": [
            "\n",
            "Epoch: 19 Train set: Average loss: 0.928015, Mask loss:0.874453, Depth loss:0.053562, lr:0\n",
            "Epoch: 19 Test set: Average loss: 0.941238, Mask loss:0.875334, Depth loss:0.065904\n"
          ],
          "name": "stdout"
        },
        {
          "output_type": "stream",
          "text": [
            "loss=0.913147 m_loss=0.864020 d_loss=0.049127 batch_id=781: 100%|██████████| 782/782 [08:26<00:00,  1.54it/s]\n",
            "loss=0.928817 m_loss=0.847050 d_loss=0.081767 batch_id=31: 100%|██████████| 32/32 [00:20<00:00,  1.60it/s]\n"
          ],
          "name": "stderr"
        },
        {
          "output_type": "stream",
          "text": [
            "\n",
            "Epoch: 20 Train set: Average loss: 0.927667, Mask loss:0.874337, Depth loss:0.053330, lr:0\n",
            "Epoch: 20 Test set: Average loss: 0.941402, Mask loss:0.875466, Depth loss:0.065936\n",
            "Final model save path: /content/drive/My Drive/EVA4/model_saves/model-2ff807d1d0.h5  best loss: 0.9407854676246643\n"
          ],
          "name": "stdout"
        }
      ]
    },
    {
      "cell_type": "markdown",
      "metadata": {
        "id": "7NrlfSP4Esn9",
        "colab_type": "text"
      },
      "source": [
        "### Training Stage-3 100k to 150K"
      ]
    },
    {
      "cell_type": "code",
      "metadata": {
        "colab_type": "code",
        "outputId": "2684564e-47ad-460d-9a14-e0c52a23cf68",
        "id": "jDprgTGVG0sF",
        "colab": {
          "base_uri": "https://localhost:8080/",
          "height": 1000
        }
      },
      "source": [
        "######## OCP \n",
        "from RekogNizer import mmdmodels\n",
        "device = torch.device(\"cuda\" if not hyperparams.hyperparameter_defaults['no_cuda'] else \"cpu\")\n",
        "tqdm._instances.clear()\n",
        "hyperparams.set_hyperparam({\"epochs\":10})\n",
        "\n",
        "hyperparams.hyperparameter_defaults['run_name'] = fileutils.rand_run_name()\n",
        "hyperparams.hyperparameter_defaults['epochs'] = 20\n",
        "hyperparams.hyperparameter_defaults['lr'] = 0.02754228703338166 #6.2500e-01 #0.1\n",
        "hyperparams.hyperparameter_defaults['ocp_max_lr'] = 0.02754228703338166 #6.2500e-01 #0.1\n",
        "\n",
        "print(\"Initializing datasets and dataloaders\")    \n",
        "\n",
        "#model_new =  mmdmodels.UNet(n_channels=6, n_classes=2)\n",
        "wandb_run_init = wandb.init(config=hyperparams.hyperparameter_defaults, \n",
        "                            project=hyperparams.hyperparameter_defaults['project'])\n",
        "#wandb.watch_called = False\n",
        "config = wandb.config\n",
        "print(config)\n",
        "#wandb.watch(model_new, log=\"none\")\n",
        "\n",
        "# optimizer=optim.SGD(model_new.parameters(), lr=config.lr,momentum=config.momentum,\n",
        "#                         weight_decay=0)\n",
        "optimizer=optim.SGD(expand_model.parameters(), lr=config.lr,momentum=config.momentum,\n",
        "                        weight_decay=2e-5)\n",
        "#expand_model_params\n",
        "# criterion={\"mask\":[mmdlosses.dice_loss, mmdlosses.LocalBCELoss, mmdlosses.LocalPixelLoss], \n",
        "#            \"depth\":[mmdlosses.LocalRMSELoss, mmdlosses.LocalSSIMLoss]}\n",
        "\n",
        "criterion={\"mask\":[mmdlosses.dice_loss, mmdlosses.LocalL1Loss], \n",
        "           \"depth\":[mmdlosses.LocalRMSELoss, mmdlosses.LocalSSIMLoss]}\n",
        "\n",
        "#scheduler = ReduceLROnPlateau(optimizer, mode='min', factor=0.5, patience=2, verbose=True, threshold=0.0001)\n",
        "scheduler = OneCycleLR(optimizer, \n",
        "                        config.ocp_max_lr, \n",
        "                        epochs=config.epochs, \n",
        "                        cycle_momentum=True, \n",
        "                        steps_per_epoch=len(train_loader), \n",
        "                        base_momentum=config.momentum,\n",
        "                        max_momentum=0.95, \n",
        "                        pct_start=0.208,\n",
        "                        anneal_strategy=config.anneal_strategy,\n",
        "                        div_factor=config.div_factor,\n",
        "                        final_div_factor=config.final_div_factor\n",
        "                           )\n",
        "\n",
        "final_model_path = mmdtraintest.execute_model(expand_model, \n",
        "            hyperparams.hyperparameter_defaults, \n",
        "            train_loader, test_loader, \n",
        "            device, \n",
        "            wandb=wandb,\n",
        "            optimizer_in=optimizer,\n",
        "            scheduler=scheduler,\n",
        "            prev_saved_model=None,\n",
        "            criterion=criterion,\n",
        "            save_best=True,\n",
        "            lars_mode=False,\n",
        "            batch_step=True)"
      ],
      "execution_count": 0,
      "outputs": [
        {
          "output_type": "stream",
          "text": [
            "Initializing datasets and dataloaders\n"
          ],
          "name": "stdout"
        },
        {
          "output_type": "display_data",
          "data": {
            "text/html": [
              "\n",
              "                Logging results to <a href=\"https://wandb.com\" target=\"_blank\">Weights & Biases</a> <a href=\"https://docs.wandb.com/integrations/jupyter.html\" target=\"_blank\">(Documentation)</a>.<br/>\n",
              "                Project page: <a href=\"https://app.wandb.ai/rajy4683/news5\" target=\"_blank\">https://app.wandb.ai/rajy4683/news5</a><br/>\n",
              "                Run page: <a href=\"https://app.wandb.ai/rajy4683/news5/runs/3v58ouke\" target=\"_blank\">https://app.wandb.ai/rajy4683/news5/runs/3v58ouke</a><br/>\n",
              "            "
            ],
            "text/plain": [
              "<IPython.core.display.HTML object>"
            ]
          },
          "metadata": {
            "tags": []
          }
        },
        {
          "output_type": "stream",
          "text": [
            "\r  0%|          | 0/782 [00:00<?, ?it/s]"
          ],
          "name": "stderr"
        },
        {
          "output_type": "stream",
          "text": [
            "wandb_version: 1\n",
            "\n",
            "_wandb:\n",
            "  desc: null\n",
            "  value:\n",
            "    cli_version: 0.8.36\n",
            "    framework: torch\n",
            "    is_jupyter_run: true\n",
            "    is_kaggle_kernel: false\n",
            "    python_version: 3.6.9\n",
            "anneal_strategy:\n",
            "  desc: null\n",
            "  value: linear\n",
            "batch_size:\n",
            "  desc: null\n",
            "  value: 512\n",
            "bias:\n",
            "  desc: null\n",
            "  value: false\n",
            "cycle_momentum:\n",
            "  desc: null\n",
            "  value: false\n",
            "div_factor:\n",
            "  desc: null\n",
            "  value: 128\n",
            "dropout:\n",
            "  desc: null\n",
            "  value: 0.1\n",
            "epochs:\n",
            "  desc: null\n",
            "  value: 20\n",
            "factor:\n",
            "  desc: null\n",
            "  value: 0.0\n",
            "final_div_factor:\n",
            "  desc: null\n",
            "  value: 64\n",
            "lr:\n",
            "  desc: null\n",
            "  value: 0.02754228703338166\n",
            "lr_decay_threshold:\n",
            "  desc: null\n",
            "  value: 0.0\n",
            "lr_policy:\n",
            "  desc: null\n",
            "  value: ocp\n",
            "momentum:\n",
            "  desc: null\n",
            "  value: 0.9\n",
            "no_cuda:\n",
            "  desc: null\n",
            "  value: false\n",
            "ocp_max_lr:\n",
            "  desc: null\n",
            "  value: 0.02754228703338166\n",
            "pct_start:\n",
            "  desc: null\n",
            "  value: 0.208\n",
            "project:\n",
            "  desc: null\n",
            "  value: news5\n",
            "run_name:\n",
            "  desc: null\n",
            "  value: 1667f27d06\n",
            "sched_lr_gamma:\n",
            "  desc: null\n",
            "  value: 0.5\n",
            "sched_lr_step:\n",
            "  desc: null\n",
            "  value: 1\n",
            "seed:\n",
            "  desc: null\n",
            "  value: 1\n",
            "split_pct:\n",
            "  desc: null\n",
            "  value: 0.208\n",
            "start_lr:\n",
            "  desc: null\n",
            "  value: 0\n",
            "test_batch_size:\n",
            "  desc: null\n",
            "  value: 128\n",
            "weight_decay:\n",
            "  desc: null\n",
            "  value: 0.0\n",
            "\n",
            "Model saved to:  /content/drive/My Drive/EVA4/model_saves/model-1667f27d06.h5\n"
          ],
          "name": "stdout"
        },
        {
          "output_type": "stream",
          "text": [
            "loss=0.951061 m_loss=0.881213 d_loss=0.069847 batch_id=781: 100%|██████████| 782/782 [08:11<00:00,  1.59it/s]\n",
            "loss=0.927923 m_loss=0.867946 d_loss=0.059977 batch_id=156: 100%|██████████| 157/157 [00:40<00:00,  3.85it/s]\n"
          ],
          "name": "stderr"
        },
        {
          "output_type": "stream",
          "text": [
            "\n",
            "Epoch: 1 Train set: Average loss: 0.937333, Mask loss:0.876023, Depth loss:0.061310, lr:0\n",
            "Epoch: 1 Test set: Average loss: 0.945344, Mask loss:0.877057, Depth loss:0.068287\n",
            "Model saved as Test loss reduced from  10000.0  to  0.9453436979062998\n"
          ],
          "name": "stdout"
        },
        {
          "output_type": "stream",
          "text": [
            "loss=0.946703 m_loss=0.880649 d_loss=0.066054 batch_id=781: 100%|██████████| 782/782 [08:08<00:00,  1.60it/s]\n",
            "loss=0.926986 m_loss=0.867659 d_loss=0.059326 batch_id=156: 100%|██████████| 157/157 [00:40<00:00,  3.90it/s]\n"
          ],
          "name": "stderr"
        },
        {
          "output_type": "stream",
          "text": [
            "\n",
            "Epoch: 2 Train set: Average loss: 0.934861, Mask loss:0.875533, Depth loss:0.059328, lr:0\n",
            "Epoch: 2 Test set: Average loss: 0.944672, Mask loss:0.876802, Depth loss:0.067869\n",
            "Model saved as Test loss reduced from  0.9453436979062998  to  0.9446715336696357\n"
          ],
          "name": "stdout"
        },
        {
          "output_type": "stream",
          "text": [
            "loss=0.943807 m_loss=0.880327 d_loss=0.063480 batch_id=781: 100%|██████████| 782/782 [08:07<00:00,  1.60it/s]\n",
            "loss=0.926478 m_loss=0.867492 d_loss=0.058985 batch_id=156: 100%|██████████| 157/157 [00:39<00:00,  3.96it/s]\n"
          ],
          "name": "stderr"
        },
        {
          "output_type": "stream",
          "text": [
            "\n",
            "Epoch: 3 Train set: Average loss: 0.933600, Mask loss:0.875402, Depth loss:0.058199, lr:0\n",
            "Epoch: 3 Test set: Average loss: 0.944320, Mask loss:0.876672, Depth loss:0.067649\n",
            "Model saved as Test loss reduced from  0.9446715336696357  to  0.9443202899519805\n"
          ],
          "name": "stdout"
        },
        {
          "output_type": "stream",
          "text": [
            "loss=0.942067 m_loss=0.880591 d_loss=0.061476 batch_id=781: 100%|██████████| 782/782 [08:06<00:00,  1.61it/s]\n",
            "loss=0.926565 m_loss=0.867748 d_loss=0.058817 batch_id=156: 100%|██████████| 157/157 [00:39<00:00,  4.01it/s]\n",
            "  0%|          | 0/782 [00:00<?, ?it/s]"
          ],
          "name": "stderr"
        },
        {
          "output_type": "stream",
          "text": [
            "\n",
            "Epoch: 4 Train set: Average loss: 0.932710, Mask loss:0.875370, Depth loss:0.057341, lr:0\n",
            "Epoch: 4 Test set: Average loss: 0.944477, Mask loss:0.876964, Depth loss:0.067513\n"
          ],
          "name": "stdout"
        },
        {
          "output_type": "stream",
          "text": [
            "loss=0.940133 m_loss=0.880262 d_loss=0.059871 batch_id=781: 100%|██████████| 782/782 [08:06<00:00,  1.61it/s]\n",
            "loss=0.926148 m_loss=0.867560 d_loss=0.058587 batch_id=156: 100%|██████████| 157/157 [00:41<00:00,  3.82it/s]\n"
          ],
          "name": "stderr"
        },
        {
          "output_type": "stream",
          "text": [
            "\n",
            "Epoch: 5 Train set: Average loss: 0.931824, Mask loss:0.875189, Depth loss:0.056635, lr:0\n",
            "Epoch: 5 Test set: Average loss: 0.944233, Mask loss:0.876809, Depth loss:0.067424\n",
            "Model saved as Test loss reduced from  0.9443202899519805  to  0.9442334023250896\n"
          ],
          "name": "stdout"
        },
        {
          "output_type": "stream",
          "text": [
            "loss=0.938356 m_loss=0.879782 d_loss=0.058575 batch_id=781: 100%|██████████| 782/782 [08:07<00:00,  1.61it/s]\n",
            "loss=0.925829 m_loss=0.867329 d_loss=0.058500 batch_id=156: 100%|██████████| 157/157 [00:40<00:00,  3.92it/s]\n"
          ],
          "name": "stderr"
        },
        {
          "output_type": "stream",
          "text": [
            "\n",
            "Epoch: 6 Train set: Average loss: 0.931148, Mask loss:0.875118, Depth loss:0.056030, lr:0\n",
            "Epoch: 6 Test set: Average loss: 0.943966, Mask loss:0.876605, Depth loss:0.067361\n",
            "Model saved as Test loss reduced from  0.9442334023250896  to  0.9439657417831907\n"
          ],
          "name": "stdout"
        },
        {
          "output_type": "stream",
          "text": [
            "loss=0.937377 m_loss=0.879921 d_loss=0.057456 batch_id=781: 100%|██████████| 782/782 [08:07<00:00,  1.60it/s]\n",
            "loss=0.925695 m_loss=0.867257 d_loss=0.058438 batch_id=156: 100%|██████████| 157/157 [00:39<00:00,  4.00it/s]\n"
          ],
          "name": "stderr"
        },
        {
          "output_type": "stream",
          "text": [
            "\n",
            "Epoch: 7 Train set: Average loss: 0.930591, Mask loss:0.875097, Depth loss:0.055496, lr:0\n",
            "Epoch: 7 Test set: Average loss: 0.943849, Mask loss:0.876526, Depth loss:0.067323\n",
            "Model saved as Test loss reduced from  0.9439657417831907  to  0.9438489197166102\n"
          ],
          "name": "stdout"
        },
        {
          "output_type": "stream",
          "text": [
            "loss=0.936197 m_loss=0.879732 d_loss=0.056465 batch_id=781: 100%|██████████| 782/782 [08:07<00:00,  1.60it/s]\n",
            "loss=0.925724 m_loss=0.867337 d_loss=0.058388 batch_id=156: 100%|██████████| 157/157 [00:39<00:00,  4.01it/s]\n",
            "  0%|          | 0/782 [00:00<?, ?it/s]"
          ],
          "name": "stderr"
        },
        {
          "output_type": "stream",
          "text": [
            "\n",
            "Epoch: 8 Train set: Average loss: 0.930032, Mask loss:0.875014, Depth loss:0.055017, lr:0\n",
            "Epoch: 8 Test set: Average loss: 0.943896, Mask loss:0.876605, Depth loss:0.067291\n"
          ],
          "name": "stdout"
        },
        {
          "output_type": "stream",
          "text": [
            "loss=0.935026 m_loss=0.879424 d_loss=0.055602 batch_id=781: 100%|██████████| 782/782 [08:07<00:00,  1.60it/s]\n",
            "loss=0.925657 m_loss=0.867388 d_loss=0.058270 batch_id=156: 100%|██████████| 157/157 [00:39<00:00,  3.93it/s]\n",
            "  0%|          | 0/782 [00:00<?, ?it/s]"
          ],
          "name": "stderr"
        },
        {
          "output_type": "stream",
          "text": [
            "\n",
            "Epoch: 9 Train set: Average loss: 0.929516, Mask loss:0.874932, Depth loss:0.054584, lr:0\n",
            "Epoch: 9 Test set: Average loss: 0.943922, Mask loss:0.876656, Depth loss:0.067266\n"
          ],
          "name": "stdout"
        },
        {
          "output_type": "stream",
          "text": [
            "loss=0.934176 m_loss=0.879354 d_loss=0.054823 batch_id=781: 100%|██████████| 782/782 [08:07<00:00,  1.61it/s]\n",
            "loss=0.925419 m_loss=0.867239 d_loss=0.058179 batch_id=156: 100%|██████████| 157/157 [00:39<00:00,  4.02it/s]\n"
          ],
          "name": "stderr"
        },
        {
          "output_type": "stream",
          "text": [
            "\n",
            "Epoch: 10 Train set: Average loss: 0.929125, Mask loss:0.874938, Depth loss:0.054187, lr:0\n",
            "Epoch: 10 Test set: Average loss: 0.943745, Mask loss:0.876500, Depth loss:0.067245\n",
            "Model saved as Test loss reduced from  0.9438489197166102  to  0.9437454126443073\n"
          ],
          "name": "stdout"
        },
        {
          "output_type": "stream",
          "text": [
            "loss=0.933398 m_loss=0.879265 d_loss=0.054134 batch_id=781: 100%|██████████| 782/782 [08:07<00:00,  1.61it/s]\n",
            "loss=0.925427 m_loss=0.867338 d_loss=0.058089 batch_id=156: 100%|██████████| 157/157 [00:39<00:00,  3.98it/s]\n",
            "  0%|          | 0/782 [00:00<?, ?it/s]"
          ],
          "name": "stderr"
        },
        {
          "output_type": "stream",
          "text": [
            "\n",
            "Epoch: 11 Train set: Average loss: 0.928684, Mask loss:0.874865, Depth loss:0.053819, lr:0\n",
            "Epoch: 11 Test set: Average loss: 0.943817, Mask loss:0.876591, Depth loss:0.067226\n"
          ],
          "name": "stdout"
        },
        {
          "output_type": "stream",
          "text": [
            "loss=0.933405 m_loss=0.879911 d_loss=0.053493 batch_id=781: 100%|██████████| 782/782 [08:08<00:00,  1.60it/s]\n",
            "loss=0.925769 m_loss=0.867723 d_loss=0.058046 batch_id=156: 100%|██████████| 157/157 [00:39<00:00,  3.93it/s]\n",
            "  0%|          | 0/782 [00:00<?, ?it/s]"
          ],
          "name": "stderr"
        },
        {
          "output_type": "stream",
          "text": [
            "\n",
            "Epoch: 12 Train set: Average loss: 0.928246, Mask loss:0.874769, Depth loss:0.053476, lr:0\n",
            "Epoch: 12 Test set: Average loss: 0.944174, Mask loss:0.876959, Depth loss:0.067215\n"
          ],
          "name": "stdout"
        },
        {
          "output_type": "stream",
          "text": [
            "loss=0.932035 m_loss=0.879129 d_loss=0.052906 batch_id=781: 100%|██████████| 782/782 [08:08<00:00,  1.60it/s]\n",
            "loss=0.925286 m_loss=0.867269 d_loss=0.058017 batch_id=156: 100%|██████████| 157/157 [00:39<00:00,  3.97it/s]\n"
          ],
          "name": "stderr"
        },
        {
          "output_type": "stream",
          "text": [
            "\n",
            "Epoch: 13 Train set: Average loss: 0.927975, Mask loss:0.874822, Depth loss:0.053154, lr:0\n",
            "Epoch: 13 Test set: Average loss: 0.943695, Mask loss:0.876493, Depth loss:0.067202\n",
            "Model saved as Test loss reduced from  0.9437454126443073  to  0.943694679600418\n"
          ],
          "name": "stdout"
        },
        {
          "output_type": "stream",
          "text": [
            "loss=0.932206 m_loss=0.879813 d_loss=0.052393 batch_id=781: 100%|██████████| 782/782 [08:07<00:00,  1.60it/s]\n",
            "loss=0.925971 m_loss=0.868027 d_loss=0.057944 batch_id=156: 100%|██████████| 157/157 [00:40<00:00,  3.92it/s]\n",
            "  0%|          | 0/782 [00:00<?, ?it/s]"
          ],
          "name": "stderr"
        },
        {
          "output_type": "stream",
          "text": [
            "\n",
            "Epoch: 14 Train set: Average loss: 0.927659, Mask loss:0.874806, Depth loss:0.052852, lr:0\n",
            "Epoch: 14 Test set: Average loss: 0.944441, Mask loss:0.877250, Depth loss:0.067191\n"
          ],
          "name": "stdout"
        },
        {
          "output_type": "stream",
          "text": [
            "loss=0.931222 m_loss=0.879305 d_loss=0.051918 batch_id=781: 100%|██████████| 782/782 [08:08<00:00,  1.60it/s]\n",
            "loss=0.925517 m_loss=0.867633 d_loss=0.057884 batch_id=156: 100%|██████████| 157/157 [00:39<00:00,  3.97it/s]\n",
            "  0%|          | 0/782 [00:00<?, ?it/s]"
          ],
          "name": "stderr"
        },
        {
          "output_type": "stream",
          "text": [
            "\n",
            "Epoch: 15 Train set: Average loss: 0.927336, Mask loss:0.874769, Depth loss:0.052566, lr:0\n",
            "Epoch: 15 Test set: Average loss: 0.944025, Mask loss:0.876841, Depth loss:0.067184\n"
          ],
          "name": "stdout"
        },
        {
          "output_type": "stream",
          "text": [
            "loss=0.930335 m_loss=0.878844 d_loss=0.051491 batch_id=781: 100%|██████████| 782/782 [08:07<00:00,  1.60it/s]\n",
            "loss=0.925128 m_loss=0.867322 d_loss=0.057806 batch_id=156: 100%|██████████| 157/157 [00:39<00:00,  4.00it/s]\n",
            "  0%|          | 0/782 [00:00<?, ?it/s]"
          ],
          "name": "stderr"
        },
        {
          "output_type": "stream",
          "text": [
            "\n",
            "Epoch: 16 Train set: Average loss: 0.926991, Mask loss:0.874696, Depth loss:0.052295, lr:0\n",
            "Epoch: 16 Test set: Average loss: 0.943698, Mask loss:0.876519, Depth loss:0.067179\n"
          ],
          "name": "stdout"
        },
        {
          "output_type": "stream",
          "text": [
            "loss=0.929898 m_loss=0.878801 d_loss=0.051097 batch_id=781: 100%|██████████| 782/782 [08:07<00:00,  1.60it/s]\n",
            "loss=0.925009 m_loss=0.867234 d_loss=0.057775 batch_id=156: 100%|██████████| 157/157 [00:39<00:00,  3.99it/s]\n"
          ],
          "name": "stderr"
        },
        {
          "output_type": "stream",
          "text": [
            "\n",
            "Epoch: 17 Train set: Average loss: 0.926701, Mask loss:0.874662, Depth loss:0.052039, lr:0\n",
            "Epoch: 17 Test set: Average loss: 0.943583, Mask loss:0.876410, Depth loss:0.067173\n",
            "Model saved as Test loss reduced from  0.943694679600418  to  0.9435833973489749\n"
          ],
          "name": "stdout"
        },
        {
          "output_type": "stream",
          "text": [
            "loss=0.929437 m_loss=0.878706 d_loss=0.050731 batch_id=781: 100%|██████████| 782/782 [08:08<00:00,  1.60it/s]\n",
            "loss=0.925119 m_loss=0.867347 d_loss=0.057772 batch_id=156: 100%|██████████| 157/157 [00:39<00:00,  3.99it/s]\n",
            "  0%|          | 0/782 [00:00<?, ?it/s]"
          ],
          "name": "stderr"
        },
        {
          "output_type": "stream",
          "text": [
            "\n",
            "Epoch: 18 Train set: Average loss: 0.926471, Mask loss:0.874679, Depth loss:0.051793, lr:0\n",
            "Epoch: 18 Test set: Average loss: 0.943682, Mask loss:0.876511, Depth loss:0.067171\n"
          ],
          "name": "stdout"
        },
        {
          "output_type": "stream",
          "text": [
            "loss=0.929115 m_loss=0.878723 d_loss=0.050392 batch_id=781: 100%|██████████| 782/782 [08:07<00:00,  1.60it/s]\n",
            "loss=0.925115 m_loss=0.867376 d_loss=0.057739 batch_id=156: 100%|██████████| 157/157 [00:39<00:00,  3.96it/s]\n",
            "  0%|          | 0/782 [00:00<?, ?it/s]"
          ],
          "name": "stderr"
        },
        {
          "output_type": "stream",
          "text": [
            "\n",
            "Epoch: 19 Train set: Average loss: 0.926143, Mask loss:0.874583, Depth loss:0.051559, lr:0\n",
            "Epoch: 19 Test set: Average loss: 0.943700, Mask loss:0.876534, Depth loss:0.067166\n"
          ],
          "name": "stdout"
        },
        {
          "output_type": "stream",
          "text": [
            "loss=0.928785 m_loss=0.878723 d_loss=0.050062 batch_id=781: 100%|██████████| 782/782 [08:07<00:00,  1.60it/s]\n",
            "loss=0.925004 m_loss=0.867277 d_loss=0.057727 batch_id=156: 100%|██████████| 157/157 [00:39<00:00,  3.97it/s]\n"
          ],
          "name": "stderr"
        },
        {
          "output_type": "stream",
          "text": [
            "\n",
            "Epoch: 20 Train set: Average loss: 0.925913, Mask loss:0.874578, Depth loss:0.051335, lr:0\n",
            "Epoch: 20 Test set: Average loss: 0.943582, Mask loss:0.876421, Depth loss:0.067161\n",
            "Model saved as Test loss reduced from  0.9435833973489749  to  0.9435822310721039\n",
            "Final model save path: /content/drive/My Drive/EVA4/model_saves/model-1667f27d06.h5  best loss: 0.9435822310721039\n"
          ],
          "name": "stdout"
        }
      ]
    },
    {
      "cell_type": "markdown",
      "metadata": {
        "id": "oXeq-BdKHJBn",
        "colab_type": "text"
      },
      "source": [
        "### Training Stage-3 150K to 200K"
      ]
    },
    {
      "cell_type": "code",
      "metadata": {
        "colab_type": "code",
        "outputId": "9a90a50c-d00b-4344-9d0f-e392cbdbd859",
        "id": "KuGIiU0mHNtQ",
        "colab": {
          "base_uri": "https://localhost:8080/",
          "height": 1000
        }
      },
      "source": [
        "######## OCP \n",
        "from RekogNizer import mmdmodels\n",
        "device = torch.device(\"cuda\" if not hyperparams.hyperparameter_defaults['no_cuda'] else \"cpu\")\n",
        "tqdm._instances.clear()\n",
        "hyperparams.set_hyperparam({\"epochs\":10})\n",
        "\n",
        "hyperparams.hyperparameter_defaults['run_name'] = fileutils.rand_run_name()\n",
        "hyperparams.hyperparameter_defaults['epochs'] = 20\n",
        "hyperparams.hyperparameter_defaults['lr'] = 6.2500e-03 #0.1\n",
        "hyperparams.hyperparameter_defaults['ocp_max_lr'] = 6.2500e-03 #0.1\n",
        "\n",
        "print(\"Initializing datasets and dataloaders\")    \n",
        "\n",
        "#model_new =  mmdmodels.UNet(n_channels=6, n_classes=2)\n",
        "wandb_run_init = wandb.init(config=hyperparams.hyperparameter_defaults, \n",
        "                            project=hyperparams.hyperparameter_defaults['project'])\n",
        "#wandb.watch_called = False\n",
        "config = wandb.config\n",
        "print(config)\n",
        "#wandb.watch(model_new, log=\"none\")\n",
        "\n",
        "optimizer=optim.SGD(expand_model.parameters(), lr=config.lr,momentum=config.momentum,\n",
        "                         weight_decay=1e-5)\n",
        "#optimizer=optim.SGD(expand_model_params, lr=config.lr,momentum=config.momentum,\n",
        "#                        weight_decay=2e-5)\n",
        "#expand_model_params\n",
        "# criterion={\"mask\":[mmdlosses.dice_loss, mmdlosses.LocalBCELoss, mmdlosses.LocalPixelLoss], \n",
        "#            \"depth\":[mmdlosses.LocalRMSELoss, mmdlosses.LocalSSIMLoss]}\n",
        "\n",
        "criterion={\"mask\":[mmdlosses.dice_loss, mmdlosses.LocalL1Loss], \n",
        "           \"depth\":[mmdlosses.LocalRMSELoss, mmdlosses.LocalSSIMLoss]}\n",
        "\n",
        "scheduler = ReduceLROnPlateau(optimizer, mode='min', factor=0.5, patience=2, verbose=True, threshold=0.0001)\n",
        "# scheduler = OneCycleLR(optimizer, \n",
        "#                         config.ocp_max_lr, \n",
        "#                         epochs=config.epochs, \n",
        "#                         cycle_momentum=True, \n",
        "#                         steps_per_epoch=len(train_loader), \n",
        "#                         base_momentum=config.momentum,\n",
        "#                         max_momentum=0.95, \n",
        "#                         pct_start=0.208,\n",
        "#                         anneal_strategy=config.anneal_strategy,\n",
        "#                         div_factor=config.div_factor,\n",
        "#                         final_div_factor=config.final_div_factor\n",
        "#                            )\n",
        "\n",
        "final_model_path = mmdtraintest.execute_model(expand_model, \n",
        "            hyperparams.hyperparameter_defaults, \n",
        "            train_loader, test_loader, \n",
        "            device, \n",
        "            wandb=wandb,\n",
        "            optimizer_in=optimizer,\n",
        "            scheduler=scheduler,\n",
        "            prev_saved_model=None,\n",
        "            criterion=criterion,\n",
        "            save_best=True,\n",
        "            lars_mode=False,\n",
        "            batch_step=False)"
      ],
      "execution_count": 0,
      "outputs": [
        {
          "output_type": "stream",
          "text": [
            "Initializing datasets and dataloaders\n"
          ],
          "name": "stdout"
        },
        {
          "output_type": "display_data",
          "data": {
            "text/html": [
              "\n",
              "                Logging results to <a href=\"https://wandb.com\" target=\"_blank\">Weights & Biases</a> <a href=\"https://docs.wandb.com/integrations/jupyter.html\" target=\"_blank\">(Documentation)</a>.<br/>\n",
              "                Project page: <a href=\"https://app.wandb.ai/rajy4683/news5\" target=\"_blank\">https://app.wandb.ai/rajy4683/news5</a><br/>\n",
              "                Run page: <a href=\"https://app.wandb.ai/rajy4683/news5/runs/1id5a41z\" target=\"_blank\">https://app.wandb.ai/rajy4683/news5/runs/1id5a41z</a><br/>\n",
              "            "
            ],
            "text/plain": [
              "<IPython.core.display.HTML object>"
            ]
          },
          "metadata": {
            "tags": []
          }
        },
        {
          "output_type": "stream",
          "text": [
            "\r  0%|          | 0/782 [00:00<?, ?it/s]"
          ],
          "name": "stderr"
        },
        {
          "output_type": "stream",
          "text": [
            "wandb_version: 1\n",
            "\n",
            "_wandb:\n",
            "  desc: null\n",
            "  value:\n",
            "    cli_version: 0.8.36\n",
            "    framework: torch\n",
            "    is_jupyter_run: true\n",
            "    is_kaggle_kernel: false\n",
            "    python_version: 3.6.9\n",
            "anneal_strategy:\n",
            "  desc: null\n",
            "  value: linear\n",
            "batch_size:\n",
            "  desc: null\n",
            "  value: 512\n",
            "bias:\n",
            "  desc: null\n",
            "  value: false\n",
            "cycle_momentum:\n",
            "  desc: null\n",
            "  value: false\n",
            "div_factor:\n",
            "  desc: null\n",
            "  value: 128\n",
            "dropout:\n",
            "  desc: null\n",
            "  value: 0.1\n",
            "epochs:\n",
            "  desc: null\n",
            "  value: 20\n",
            "factor:\n",
            "  desc: null\n",
            "  value: 0.0\n",
            "final_div_factor:\n",
            "  desc: null\n",
            "  value: 64\n",
            "lr:\n",
            "  desc: null\n",
            "  value: 0.00625\n",
            "lr_decay_threshold:\n",
            "  desc: null\n",
            "  value: 0.0\n",
            "lr_policy:\n",
            "  desc: null\n",
            "  value: ocp\n",
            "momentum:\n",
            "  desc: null\n",
            "  value: 0.9\n",
            "no_cuda:\n",
            "  desc: null\n",
            "  value: false\n",
            "ocp_max_lr:\n",
            "  desc: null\n",
            "  value: 0.00625\n",
            "pct_start:\n",
            "  desc: null\n",
            "  value: 0.208\n",
            "project:\n",
            "  desc: null\n",
            "  value: news5\n",
            "run_name:\n",
            "  desc: null\n",
            "  value: 1e044c7424\n",
            "sched_lr_gamma:\n",
            "  desc: null\n",
            "  value: 0.5\n",
            "sched_lr_step:\n",
            "  desc: null\n",
            "  value: 1\n",
            "seed:\n",
            "  desc: null\n",
            "  value: 1\n",
            "split_pct:\n",
            "  desc: null\n",
            "  value: 0.208\n",
            "start_lr:\n",
            "  desc: null\n",
            "  value: 0\n",
            "test_batch_size:\n",
            "  desc: null\n",
            "  value: 128\n",
            "weight_decay:\n",
            "  desc: null\n",
            "  value: 0.0\n",
            "\n",
            "Model saved to:  /content/drive/My Drive/EVA4/model_saves/model-1e044c7424.h5\n"
          ],
          "name": "stdout"
        },
        {
          "output_type": "stream",
          "text": [
            "loss=0.947421 m_loss=0.869179 d_loss=0.078242 batch_id=781: 100%|██████████| 782/782 [08:07<00:00,  1.61it/s]\n",
            "loss=0.949077 m_loss=0.867498 d_loss=0.081580 batch_id=156: 100%|██████████| 157/157 [00:38<00:00,  4.07it/s]\n"
          ],
          "name": "stderr"
        },
        {
          "output_type": "stream",
          "text": [
            "\n",
            "Epoch: 1 Train set: Average loss: 0.952953, Mask loss:0.882176, Depth loss:0.070777, lr:0\n",
            "Epoch: 1 Test set: Average loss: 0.954114, Mask loss:0.878989, Depth loss:0.075125\n",
            "Model saved as Test loss reduced from  10000.0  to  0.9541137112174064\n"
          ],
          "name": "stdout"
        },
        {
          "output_type": "stream",
          "text": [
            "\r  0%|          | 0/782 [00:00<?, ?it/s]"
          ],
          "name": "stderr"
        },
        {
          "output_type": "stream",
          "text": [
            "Non CyclicLR Case\n"
          ],
          "name": "stdout"
        },
        {
          "output_type": "stream",
          "text": [
            "loss=0.927424 m_loss=0.862901 d_loss=0.064523 batch_id=781: 100%|██████████| 782/782 [08:07<00:00,  1.60it/s]\n",
            "loss=0.958006 m_loss=0.873652 d_loss=0.084354 batch_id=156: 100%|██████████| 157/157 [00:38<00:00,  4.05it/s]\n",
            "  0%|          | 0/782 [00:00<?, ?it/s]"
          ],
          "name": "stderr"
        },
        {
          "output_type": "stream",
          "text": [
            "\n",
            "Epoch: 2 Train set: Average loss: 0.946565, Mask loss:0.881888, Depth loss:0.064678, lr:0\n",
            "Epoch: 2 Test set: Average loss: 0.960244, Mask loss:0.884712, Depth loss:0.075532\n",
            "Non CyclicLR Case\n"
          ],
          "name": "stdout"
        },
        {
          "output_type": "stream",
          "text": [
            "loss=0.919675 m_loss=0.862394 d_loss=0.057281 batch_id=781: 100%|██████████| 782/782 [08:07<00:00,  1.60it/s]\n",
            "loss=0.955777 m_loss=0.868254 d_loss=0.087523 batch_id=156: 100%|██████████| 157/157 [00:39<00:00,  3.98it/s]\n",
            "  0%|          | 0/782 [00:00<?, ?it/s]"
          ],
          "name": "stderr"
        },
        {
          "output_type": "stream",
          "text": [
            "\n",
            "Epoch: 3 Train set: Average loss: 0.943799, Mask loss:0.882945, Depth loss:0.060854, lr:0\n",
            "Epoch: 3 Test set: Average loss: 0.956050, Mask loss:0.879409, Depth loss:0.076641\n",
            "Non CyclicLR Case\n"
          ],
          "name": "stdout"
        },
        {
          "output_type": "stream",
          "text": [
            "loss=0.924087 m_loss=0.870293 d_loss=0.053794 batch_id=781: 100%|██████████| 782/782 [08:07<00:00,  1.60it/s]\n",
            "loss=0.971730 m_loss=0.880224 d_loss=0.091506 batch_id=156: 100%|██████████| 157/157 [00:39<00:00,  3.98it/s]\n",
            "  0%|          | 0/782 [00:00<?, ?it/s]"
          ],
          "name": "stderr"
        },
        {
          "output_type": "stream",
          "text": [
            "\n",
            "Epoch: 4 Train set: Average loss: 0.939556, Mask loss:0.881117, Depth loss:0.058439, lr:0\n",
            "Epoch: 4 Test set: Average loss: 0.970975, Mask loss:0.891614, Depth loss:0.079360\n",
            "Non CyclicLR Case\n",
            "Epoch     4: reducing learning rate of group 0 to 3.1250e-03.\n"
          ],
          "name": "stdout"
        },
        {
          "output_type": "stream",
          "text": [
            "loss=0.915269 m_loss=0.861661 d_loss=0.053608 batch_id=781: 100%|██████████| 782/782 [08:07<00:00,  1.60it/s]\n",
            "loss=0.943462 m_loss=0.865290 d_loss=0.078171 batch_id=156: 100%|██████████| 157/157 [00:38<00:00,  4.04it/s]\n"
          ],
          "name": "stderr"
        },
        {
          "output_type": "stream",
          "text": [
            "\n",
            "Epoch: 5 Train set: Average loss: 0.934973, Mask loss:0.877944, Depth loss:0.057029, lr:0\n",
            "Epoch: 5 Test set: Average loss: 0.945203, Mask loss:0.877394, Depth loss:0.067809\n",
            "Model saved as Test loss reduced from  0.9541137112174064  to  0.9452029671638634\n"
          ],
          "name": "stdout"
        },
        {
          "output_type": "stream",
          "text": [
            "\r  0%|          | 0/782 [00:00<?, ?it/s]"
          ],
          "name": "stderr"
        },
        {
          "output_type": "stream",
          "text": [
            "Non CyclicLR Case\n"
          ],
          "name": "stdout"
        },
        {
          "output_type": "stream",
          "text": [
            "loss=0.911752 m_loss=0.862285 d_loss=0.049467 batch_id=781: 100%|██████████| 782/782 [08:08<00:00,  1.60it/s]\n",
            "loss=0.943533 m_loss=0.865469 d_loss=0.078064 batch_id=156: 100%|██████████| 157/157 [00:39<00:00,  4.01it/s]\n",
            "  0%|          | 0/782 [00:00<?, ?it/s]"
          ],
          "name": "stderr"
        },
        {
          "output_type": "stream",
          "text": [
            "\n",
            "Epoch: 6 Train set: Average loss: 0.931995, Mask loss:0.877070, Depth loss:0.054925, lr:0\n",
            "Epoch: 6 Test set: Average loss: 0.945252, Mask loss:0.877559, Depth loss:0.067693\n",
            "Non CyclicLR Case\n"
          ],
          "name": "stdout"
        },
        {
          "output_type": "stream",
          "text": [
            "loss=0.914153 m_loss=0.865597 d_loss=0.048556 batch_id=781: 100%|██████████| 782/782 [08:08<00:00,  1.60it/s]\n",
            "loss=0.945921 m_loss=0.867376 d_loss=0.078545 batch_id=156: 100%|██████████| 157/157 [00:38<00:00,  4.04it/s]\n",
            "  0%|          | 0/782 [00:00<?, ?it/s]"
          ],
          "name": "stderr"
        },
        {
          "output_type": "stream",
          "text": [
            "\n",
            "Epoch: 7 Train set: Average loss: 0.930610, Mask loss:0.877046, Depth loss:0.053564, lr:0\n",
            "Epoch: 7 Test set: Average loss: 0.947535, Mask loss:0.879303, Depth loss:0.068233\n",
            "Non CyclicLR Case\n"
          ],
          "name": "stdout"
        },
        {
          "output_type": "stream",
          "text": [
            "loss=0.909129 m_loss=0.859781 d_loss=0.049348 batch_id=781: 100%|██████████| 782/782 [08:08<00:00,  1.60it/s]\n",
            "loss=0.946420 m_loss=0.867149 d_loss=0.079271 batch_id=156: 100%|██████████| 157/157 [00:39<00:00,  4.02it/s]\n",
            "  0%|          | 0/782 [00:00<?, ?it/s]"
          ],
          "name": "stderr"
        },
        {
          "output_type": "stream",
          "text": [
            "\n",
            "Epoch: 8 Train set: Average loss: 0.929377, Mask loss:0.876809, Depth loss:0.052568, lr:0\n",
            "Epoch: 8 Test set: Average loss: 0.948414, Mask loss:0.879055, Depth loss:0.069359\n",
            "Non CyclicLR Case\n",
            "Epoch     8: reducing learning rate of group 0 to 1.5625e-03.\n"
          ],
          "name": "stdout"
        },
        {
          "output_type": "stream",
          "text": [
            "loss=0.911263 m_loss=0.860975 d_loss=0.050288 batch_id=781: 100%|██████████| 782/782 [08:07<00:00,  1.60it/s]\n",
            "loss=0.940425 m_loss=0.864919 d_loss=0.075506 batch_id=156: 100%|██████████| 157/157 [00:38<00:00,  4.04it/s]\n"
          ],
          "name": "stderr"
        },
        {
          "output_type": "stream",
          "text": [
            "\n",
            "Epoch: 9 Train set: Average loss: 0.927851, Mask loss:0.875416, Depth loss:0.052436, lr:0\n",
            "Epoch: 9 Test set: Average loss: 0.943242, Mask loss:0.876149, Depth loss:0.067093\n",
            "Model saved as Test loss reduced from  0.9452029671638634  to  0.9432419697949841\n"
          ],
          "name": "stdout"
        },
        {
          "output_type": "stream",
          "text": [
            "\r  0%|          | 0/782 [00:00<?, ?it/s]"
          ],
          "name": "stderr"
        },
        {
          "output_type": "stream",
          "text": [
            "Non CyclicLR Case\n"
          ],
          "name": "stdout"
        },
        {
          "output_type": "stream",
          "text": [
            "loss=0.909798 m_loss=0.862790 d_loss=0.047009 batch_id=781: 100%|██████████| 782/782 [08:08<00:00,  1.60it/s]\n",
            "loss=0.944040 m_loss=0.867825 d_loss=0.076215 batch_id=156: 100%|██████████| 157/157 [00:38<00:00,  4.04it/s]\n",
            "  0%|          | 0/782 [00:00<?, ?it/s]"
          ],
          "name": "stderr"
        },
        {
          "output_type": "stream",
          "text": [
            "\n",
            "Epoch: 10 Train set: Average loss: 0.927131, Mask loss:0.875609, Depth loss:0.051522, lr:0\n",
            "Epoch: 10 Test set: Average loss: 0.946066, Mask loss:0.879195, Depth loss:0.066872\n",
            "Non CyclicLR Case\n"
          ],
          "name": "stdout"
        },
        {
          "output_type": "stream",
          "text": [
            "loss=0.906557 m_loss=0.860139 d_loss=0.046418 batch_id=781: 100%|██████████| 782/782 [08:08<00:00,  1.60it/s]\n",
            "loss=0.941150 m_loss=0.864332 d_loss=0.076817 batch_id=156: 100%|██████████| 157/157 [00:39<00:00,  4.02it/s]\n"
          ],
          "name": "stderr"
        },
        {
          "output_type": "stream",
          "text": [
            "\n",
            "Epoch: 11 Train set: Average loss: 0.926499, Mask loss:0.875689, Depth loss:0.050810, lr:0\n",
            "Epoch: 11 Test set: Average loss: 0.942485, Mask loss:0.875608, Depth loss:0.066877\n",
            "Model saved as Test loss reduced from  0.9432419697949841  to  0.9424852504851712\n"
          ],
          "name": "stdout"
        },
        {
          "output_type": "stream",
          "text": [
            "\r  0%|          | 0/782 [00:00<?, ?it/s]"
          ],
          "name": "stderr"
        },
        {
          "output_type": "stream",
          "text": [
            "Non CyclicLR Case\n"
          ],
          "name": "stdout"
        },
        {
          "output_type": "stream",
          "text": [
            "loss=0.907829 m_loss=0.861921 d_loss=0.045908 batch_id=781: 100%|██████████| 782/782 [08:10<00:00,  1.60it/s]\n",
            "loss=0.944602 m_loss=0.867117 d_loss=0.077484 batch_id=156: 100%|██████████| 157/157 [00:39<00:00,  3.97it/s]\n",
            "  0%|          | 0/782 [00:00<?, ?it/s]"
          ],
          "name": "stderr"
        },
        {
          "output_type": "stream",
          "text": [
            "\n",
            "Epoch: 12 Train set: Average loss: 0.925747, Mask loss:0.875464, Depth loss:0.050283, lr:0\n",
            "Epoch: 12 Test set: Average loss: 0.945518, Mask loss:0.878452, Depth loss:0.067066\n",
            "Non CyclicLR Case\n"
          ],
          "name": "stdout"
        },
        {
          "output_type": "stream",
          "text": [
            "loss=0.904549 m_loss=0.858847 d_loss=0.045702 batch_id=781: 100%|██████████| 782/782 [08:08<00:00,  1.60it/s]\n",
            "loss=0.943210 m_loss=0.865038 d_loss=0.078172 batch_id=156: 100%|██████████| 157/157 [00:39<00:00,  3.99it/s]\n",
            "  0%|          | 0/782 [00:00<?, ?it/s]"
          ],
          "name": "stderr"
        },
        {
          "output_type": "stream",
          "text": [
            "\n",
            "Epoch: 13 Train set: Average loss: 0.925045, Mask loss:0.875191, Depth loss:0.049854, lr:0\n",
            "Epoch: 13 Test set: Average loss: 0.943786, Mask loss:0.876346, Depth loss:0.067440\n",
            "Non CyclicLR Case\n"
          ],
          "name": "stdout"
        },
        {
          "output_type": "stream",
          "text": [
            "loss=0.904463 m_loss=0.858953 d_loss=0.045511 batch_id=781: 100%|██████████| 782/782 [08:09<00:00,  1.60it/s]\n",
            "loss=0.944517 m_loss=0.865880 d_loss=0.078637 batch_id=156: 100%|██████████| 157/157 [00:40<00:00,  3.84it/s]\n",
            "  0%|          | 0/782 [00:00<?, ?it/s]"
          ],
          "name": "stderr"
        },
        {
          "output_type": "stream",
          "text": [
            "\n",
            "Epoch: 14 Train set: Average loss: 0.924821, Mask loss:0.875333, Depth loss:0.049487, lr:0\n",
            "Epoch: 14 Test set: Average loss: 0.945014, Mask loss:0.877227, Depth loss:0.067787\n",
            "Non CyclicLR Case\n",
            "Epoch    14: reducing learning rate of group 0 to 7.8125e-04.\n"
          ],
          "name": "stdout"
        },
        {
          "output_type": "stream",
          "text": [
            "loss=0.905025 m_loss=0.860428 d_loss=0.044597 batch_id=781: 100%|██████████| 782/782 [08:10<00:00,  1.59it/s]\n",
            "loss=0.941019 m_loss=0.863949 d_loss=0.077070 batch_id=156: 100%|██████████| 157/157 [00:40<00:00,  3.87it/s]\n"
          ],
          "name": "stderr"
        },
        {
          "output_type": "stream",
          "text": [
            "\n",
            "Epoch: 15 Train set: Average loss: 0.923925, Mask loss:0.874418, Depth loss:0.049507, lr:0\n",
            "Epoch: 15 Test set: Average loss: 0.942049, Mask loss:0.875260, Depth loss:0.066789\n",
            "Model saved as Test loss reduced from  0.9424852504851712  to  0.9420493545046278\n"
          ],
          "name": "stdout"
        },
        {
          "output_type": "stream",
          "text": [
            "\r  0%|          | 0/782 [00:00<?, ?it/s]"
          ],
          "name": "stderr"
        },
        {
          "output_type": "stream",
          "text": [
            "Non CyclicLR Case\n"
          ],
          "name": "stdout"
        },
        {
          "output_type": "stream",
          "text": [
            "loss=0.903438 m_loss=0.859608 d_loss=0.043830 batch_id=781: 100%|██████████| 782/782 [08:10<00:00,  1.59it/s]\n",
            "loss=0.941294 m_loss=0.864054 d_loss=0.077240 batch_id=156: 100%|██████████| 157/157 [00:41<00:00,  3.79it/s]\n",
            "  0%|          | 0/782 [00:00<?, ?it/s]"
          ],
          "name": "stderr"
        },
        {
          "output_type": "stream",
          "text": [
            "\n",
            "Epoch: 16 Train set: Average loss: 0.923463, Mask loss:0.874490, Depth loss:0.048974, lr:0\n",
            "Epoch: 16 Test set: Average loss: 0.942100, Mask loss:0.875340, Depth loss:0.066760\n",
            "Non CyclicLR Case\n"
          ],
          "name": "stdout"
        },
        {
          "output_type": "stream",
          "text": [
            "loss=0.902565 m_loss=0.859090 d_loss=0.043475 batch_id=781: 100%|██████████| 782/782 [08:12<00:00,  1.59it/s]\n",
            "loss=0.941467 m_loss=0.864114 d_loss=0.077354 batch_id=156: 100%|██████████| 157/157 [00:41<00:00,  3.78it/s]\n",
            "  0%|          | 0/782 [00:00<?, ?it/s]"
          ],
          "name": "stderr"
        },
        {
          "output_type": "stream",
          "text": [
            "\n",
            "Epoch: 17 Train set: Average loss: 0.922980, Mask loss:0.874332, Depth loss:0.048647, lr:0\n",
            "Epoch: 17 Test set: Average loss: 0.942123, Mask loss:0.875368, Depth loss:0.066755\n",
            "Non CyclicLR Case\n"
          ],
          "name": "stdout"
        },
        {
          "output_type": "stream",
          "text": [
            "loss=0.903568 m_loss=0.860349 d_loss=0.043219 batch_id=781: 100%|██████████| 782/782 [08:10<00:00,  1.60it/s]\n",
            "loss=0.942127 m_loss=0.864779 d_loss=0.077349 batch_id=156: 100%|██████████| 157/157 [00:39<00:00,  3.96it/s]\n",
            "  0%|          | 0/782 [00:00<?, ?it/s]"
          ],
          "name": "stderr"
        },
        {
          "output_type": "stream",
          "text": [
            "\n",
            "Epoch: 18 Train set: Average loss: 0.922668, Mask loss:0.874290, Depth loss:0.048378, lr:0\n",
            "Epoch: 18 Test set: Average loss: 0.942775, Mask loss:0.876028, Depth loss:0.066747\n",
            "Non CyclicLR Case\n",
            "Epoch    18: reducing learning rate of group 0 to 3.9063e-04.\n"
          ],
          "name": "stdout"
        },
        {
          "output_type": "stream",
          "text": [
            "loss=0.902154 m_loss=0.858846 d_loss=0.043308 batch_id=781: 100%|██████████| 782/782 [08:08<00:00,  1.60it/s]\n",
            "loss=0.941592 m_loss=0.864362 d_loss=0.077230 batch_id=156: 100%|██████████| 157/157 [00:38<00:00,  4.04it/s]\n",
            "  0%|          | 0/782 [00:00<?, ?it/s]"
          ],
          "name": "stderr"
        },
        {
          "output_type": "stream",
          "text": [
            "\n",
            "Epoch: 19 Train set: Average loss: 0.922168, Mask loss:0.873925, Depth loss:0.048243, lr:0\n",
            "Epoch: 19 Test set: Average loss: 0.942054, Mask loss:0.875533, Depth loss:0.066522\n",
            "Non CyclicLR Case\n"
          ],
          "name": "stdout"
        },
        {
          "output_type": "stream",
          "text": [
            "loss=0.901744 m_loss=0.858638 d_loss=0.043107 batch_id=781: 100%|██████████| 782/782 [08:08<00:00,  1.60it/s]\n",
            "loss=0.941264 m_loss=0.864050 d_loss=0.077214 batch_id=156: 100%|██████████| 157/157 [00:39<00:00,  4.01it/s]\n"
          ],
          "name": "stderr"
        },
        {
          "output_type": "stream",
          "text": [
            "\n",
            "Epoch: 20 Train set: Average loss: 0.921907, Mask loss:0.873863, Depth loss:0.048044, lr:0\n",
            "Epoch: 20 Test set: Average loss: 0.941722, Mask loss:0.875213, Depth loss:0.066510\n",
            "Model saved as Test loss reduced from  0.9420493545046278  to  0.9417224082217854\n",
            "Non CyclicLR Case\n",
            "Final model save path: /content/drive/My Drive/EVA4/model_saves/model-1e044c7424.h5  best loss: 0.9417224082217854\n"
          ],
          "name": "stdout"
        }
      ]
    },
    {
      "cell_type": "markdown",
      "metadata": {
        "id": "Ax3xqyw8HQ_q",
        "colab_type": "text"
      },
      "source": [
        "### Training Stage-3 200K to 280K"
      ]
    },
    {
      "cell_type": "code",
      "metadata": {
        "colab_type": "code",
        "outputId": "2122f6ec-a206-4b03-9e6a-83d24df7d2f3",
        "id": "LaWNoCf1JOOz",
        "colab": {
          "base_uri": "https://localhost:8080/",
          "height": 1000
        }
      },
      "source": [
        "######## OCP \n",
        "from RekogNizer import mmdmodels\n",
        "device = torch.device(\"cuda\" if not hyperparams.hyperparameter_defaults['no_cuda'] else \"cpu\")\n",
        "tqdm._instances.clear()\n",
        "hyperparams.set_hyperparam({\"epochs\":10})\n",
        "\n",
        "hyperparams.hyperparameter_defaults['run_name'] = fileutils.rand_run_name()\n",
        "hyperparams.hyperparameter_defaults['epochs'] = 20\n",
        "hyperparams.hyperparameter_defaults['lr'] = 0.02754228703338166 #6.2500e-01 #0.1\n",
        "hyperparams.hyperparameter_defaults['ocp_max_lr'] = 0.02754228703338166 #6.2500e-01 #0.1\n",
        "\n",
        "print(\"Initializing datasets and dataloaders\")    \n",
        "\n",
        "#model_new =  mmdmodels.UNet(n_channels=6, n_classes=2)\n",
        "wandb_run_init = wandb.init(config=hyperparams.hyperparameter_defaults, \n",
        "                            project=hyperparams.hyperparameter_defaults['project'])\n",
        "#wandb.watch_called = False\n",
        "config = wandb.config\n",
        "print(config)\n",
        "#wandb.watch(model_new, log=\"none\")\n",
        "\n",
        "# optimizer=optim.SGD(model_new.parameters(), lr=config.lr,momentum=config.momentum,\n",
        "#                         weight_decay=0)\n",
        "optimizer=optim.SGD(expand_model.parameters(), lr=config.lr,momentum=config.momentum,\n",
        "                        weight_decay=2e-5)\n",
        "#expand_model_params\n",
        "# criterion={\"mask\":[mmdlosses.dice_loss, mmdlosses.LocalBCELoss, mmdlosses.LocalPixelLoss], \n",
        "#            \"depth\":[mmdlosses.LocalRMSELoss, mmdlosses.LocalSSIMLoss]}\n",
        "\n",
        "criterion={\"mask\":[mmdlosses.dice_loss, mmdlosses.LocalL1Loss], \n",
        "           \"depth\":[mmdlosses.LocalRMSELoss, mmdlosses.LocalSSIMLoss]}\n",
        "\n",
        "#scheduler = ReduceLROnPlateau(optimizer, mode='min', factor=0.5, patience=2, verbose=True, threshold=0.0001)\n",
        "scheduler = OneCycleLR(optimizer, \n",
        "                        config.ocp_max_lr, \n",
        "                        epochs=config.epochs, \n",
        "                        cycle_momentum=True, \n",
        "                        steps_per_epoch=len(train_loader), \n",
        "                        base_momentum=config.momentum,\n",
        "                        max_momentum=0.95, \n",
        "                        pct_start=0.208,\n",
        "                        anneal_strategy=config.anneal_strategy,\n",
        "                        div_factor=config.div_factor,\n",
        "                        final_div_factor=config.final_div_factor\n",
        "                           )\n",
        "\n",
        "final_model_path = mmdtraintest.execute_model(expand_model, \n",
        "            hyperparams.hyperparameter_defaults, \n",
        "            train_loader, test_loader, \n",
        "            device, \n",
        "            wandb=wandb,\n",
        "            optimizer_in=optimizer,\n",
        "            scheduler=scheduler,\n",
        "            prev_saved_model=None,\n",
        "            criterion=criterion,\n",
        "            save_best=True,\n",
        "            lars_mode=False,\n",
        "            batch_step=True)"
      ],
      "execution_count": 0,
      "outputs": [
        {
          "output_type": "stream",
          "text": [
            "Initializing datasets and dataloaders\n"
          ],
          "name": "stdout"
        },
        {
          "output_type": "display_data",
          "data": {
            "text/html": [
              "\n",
              "                Logging results to <a href=\"https://wandb.com\" target=\"_blank\">Weights & Biases</a> <a href=\"https://docs.wandb.com/integrations/jupyter.html\" target=\"_blank\">(Documentation)</a>.<br/>\n",
              "                Project page: <a href=\"https://app.wandb.ai/rajy4683/news5\" target=\"_blank\">https://app.wandb.ai/rajy4683/news5</a><br/>\n",
              "                Run page: <a href=\"https://app.wandb.ai/rajy4683/news5/runs/3kvvbgp7\" target=\"_blank\">https://app.wandb.ai/rajy4683/news5/runs/3kvvbgp7</a><br/>\n",
              "            "
            ],
            "text/plain": [
              "<IPython.core.display.HTML object>"
            ]
          },
          "metadata": {
            "tags": []
          }
        },
        {
          "output_type": "stream",
          "text": [
            "\r  0%|          | 0/782 [00:00<?, ?it/s]"
          ],
          "name": "stderr"
        },
        {
          "output_type": "stream",
          "text": [
            "wandb_version: 1\n",
            "\n",
            "_wandb:\n",
            "  desc: null\n",
            "  value:\n",
            "    cli_version: 0.8.36\n",
            "    framework: torch\n",
            "    is_jupyter_run: true\n",
            "    is_kaggle_kernel: false\n",
            "    python_version: 3.6.9\n",
            "anneal_strategy:\n",
            "  desc: null\n",
            "  value: linear\n",
            "batch_size:\n",
            "  desc: null\n",
            "  value: 512\n",
            "bias:\n",
            "  desc: null\n",
            "  value: false\n",
            "cycle_momentum:\n",
            "  desc: null\n",
            "  value: false\n",
            "div_factor:\n",
            "  desc: null\n",
            "  value: 128\n",
            "dropout:\n",
            "  desc: null\n",
            "  value: 0.1\n",
            "epochs:\n",
            "  desc: null\n",
            "  value: 20\n",
            "factor:\n",
            "  desc: null\n",
            "  value: 0.0\n",
            "final_div_factor:\n",
            "  desc: null\n",
            "  value: 64\n",
            "lr:\n",
            "  desc: null\n",
            "  value: 0.02754228703338166\n",
            "lr_decay_threshold:\n",
            "  desc: null\n",
            "  value: 0.0\n",
            "lr_policy:\n",
            "  desc: null\n",
            "  value: ocp\n",
            "momentum:\n",
            "  desc: null\n",
            "  value: 0.9\n",
            "no_cuda:\n",
            "  desc: null\n",
            "  value: false\n",
            "ocp_max_lr:\n",
            "  desc: null\n",
            "  value: 0.02754228703338166\n",
            "pct_start:\n",
            "  desc: null\n",
            "  value: 0.208\n",
            "project:\n",
            "  desc: null\n",
            "  value: news5\n",
            "run_name:\n",
            "  desc: null\n",
            "  value: 57acd7c419\n",
            "sched_lr_gamma:\n",
            "  desc: null\n",
            "  value: 0.5\n",
            "sched_lr_step:\n",
            "  desc: null\n",
            "  value: 1\n",
            "seed:\n",
            "  desc: null\n",
            "  value: 1\n",
            "split_pct:\n",
            "  desc: null\n",
            "  value: 0.208\n",
            "start_lr:\n",
            "  desc: null\n",
            "  value: 0\n",
            "test_batch_size:\n",
            "  desc: null\n",
            "  value: 128\n",
            "weight_decay:\n",
            "  desc: null\n",
            "  value: 0.0\n",
            "\n",
            "Model saved to:  /content/drive/My Drive/EVA4/model_saves/model-57acd7c419.h5\n"
          ],
          "name": "stdout"
        },
        {
          "output_type": "stream",
          "text": [
            "loss=0.963353 m_loss=0.886727 d_loss=0.076626 batch_id=781: 100%|██████████| 782/782 [08:13<00:00,  1.58it/s]\n",
            "loss=0.921316 m_loss=0.855871 d_loss=0.065445 batch_id=156: 100%|██████████| 157/157 [01:21<00:00,  1.92it/s]\n"
          ],
          "name": "stderr"
        },
        {
          "output_type": "stream",
          "text": [
            "\n",
            "Epoch: 1 Train set: Average loss: 0.949920, Mask loss:0.877084, Depth loss:0.072836, lr:0\n",
            "Epoch: 1 Test set: Average loss: 0.945413, Mask loss:0.876150, Depth loss:0.069263\n",
            "Model saved as Test loss reduced from  10000.0  to  0.9454128970006469\n"
          ],
          "name": "stdout"
        },
        {
          "output_type": "stream",
          "text": [
            "loss=0.956983 m_loss=0.886011 d_loss=0.070972 batch_id=781: 100%|██████████| 782/782 [08:13<00:00,  1.58it/s]\n",
            "loss=0.920541 m_loss=0.855640 d_loss=0.064901 batch_id=156: 100%|██████████| 157/157 [01:21<00:00,  1.93it/s]\n"
          ],
          "name": "stderr"
        },
        {
          "output_type": "stream",
          "text": [
            "\n",
            "Epoch: 2 Train set: Average loss: 0.946912, Mask loss:0.876598, Depth loss:0.070315, lr:0\n",
            "Epoch: 2 Test set: Average loss: 0.944621, Mask loss:0.875979, Depth loss:0.068641\n",
            "Model saved as Test loss reduced from  0.9454128970006469  to  0.9446207034360071\n"
          ],
          "name": "stdout"
        },
        {
          "output_type": "stream",
          "text": [
            "loss=0.953803 m_loss=0.886327 d_loss=0.067476 batch_id=781: 100%|██████████| 782/782 [08:14<00:00,  1.58it/s]\n",
            "loss=0.920495 m_loss=0.856088 d_loss=0.064407 batch_id=156: 100%|██████████| 157/157 [01:22<00:00,  1.90it/s]\n",
            "  0%|          | 0/782 [00:00<?, ?it/s]"
          ],
          "name": "stderr"
        },
        {
          "output_type": "stream",
          "text": [
            "\n",
            "Epoch: 3 Train set: Average loss: 0.945317, Mask loss:0.876438, Depth loss:0.068879, lr:0\n",
            "Epoch: 3 Test set: Average loss: 0.944802, Mask loss:0.876523, Depth loss:0.068280\n"
          ],
          "name": "stdout"
        },
        {
          "output_type": "stream",
          "text": [
            "loss=0.937558 m_loss=0.875589 d_loss=0.061969 batch_id=376:  48%|████▊     | 377/782 [04:01<04:12,  1.60it/s]"
          ],
          "name": "stderr"
        }
      ]
    },
    {
      "cell_type": "markdown",
      "metadata": {
        "colab_type": "text",
        "id": "2Y5UWzb9Jp5C"
      },
      "source": [
        "\n",
        "### For 2.5L to 2.8L\n",
        "#### For 200K to 280K Full logs were not available as the cell got overwritten. Following is the final accuracy reached\n",
        "#### For 2L to 2.5L\n",
        "```\n",
        "Epoch: 17 Train set: Average loss: 0.934880, Mask loss:0.875543, Depth loss:0.059338, lr:0\n",
        "Epoch: 17 Test set: Average loss: 0.943056, Mask loss:0.875553, Depth loss:0.067503\n",
        "loss=0.934393 m_loss=0.883745 d_loss=0.050648 batch_id=781: 100%|██████████| 782/782 [08:07<00:00,  1.61it/s]\n",
        "loss=0.916941 m_loss=0.854522 d_loss=0.062418 batch_id=156: 100%|██████████| 157/157 [01:15<00:00,  2.08it/s]\n",
        "  0%|          | 0/782 [00:00<?, ?it/s]\n",
        "Epoch: 18 Train set: Average loss: 0.934405, Mask loss:0.875434, Depth loss:0.058971, lr:0\n",
        "Epoch: 18 Test set: Average loss: 0.942938, Mask loss:0.875420, Depth loss:0.067518\n",
        "loss=0.933845 m_loss=0.883690 d_loss=0.050155 batch_id=781: 100%|██████████| 782/782 [08:07<00:00,  1.60it/s]\n",
        "loss=0.916787 m_loss=0.854492 d_loss=0.062295 batch_id=156: 100%|██████████| 157/157 [01:14<00:00,  2.10it/s]\n",
        "  0%|          | 0/782 [00:00<?, ?it/s]\n",
        "Epoch: 19 Train set: Average loss: 0.934084, Mask loss:0.875464, Depth loss:0.058620, lr:0\n",
        "Epoch: 19 Test set: Average loss: 0.942940, Mask loss:0.875408, Depth loss:0.067532\n",
        "loss=0.933525 m_loss=0.883843 d_loss=0.049682 batch_id=781: 100%|██████████| 782/782 [08:07<00:00,  1.60it/s]\n",
        "loss=0.916737 m_loss=0.854544 d_loss=0.062193 batch_id=156: 100%|██████████| 157/157 [01:15<00:00,  2.08it/s]\n",
        "\n",
        "Epoch: 20 Train set: Average loss: 0.933698, Mask loss:0.875418, Depth loss:0.058279, lr:0\n",
        "Epoch: 20 Test set: Average loss: 0.943013, Mask loss:0.875462, Depth loss:0.067551\n",
        "Final model save path: /content/drive/My Drive/EVA4/model_saves/model-165e49dabd.h5  best loss: 0.9427855667794586\n",
        "```\n",
        "\n",
        "```\n",
        "Epoch: 17 Train set: Average loss: 0.934587, Mask loss:0.875823, Depth loss:0.058764, lr:0\n",
        "Epoch: 17 Test set: Average loss: 0.942045, Mask loss:0.875377, Depth loss:0.066668\n",
        "loss=0.940239 m_loss=0.882275 d_loss=0.057965 batch_id=468: 100%|██████████| 469/469 [04:56<00:00,  1.58it/s]\n",
        "loss=0.916198 m_loss=0.854108 d_loss=0.062091 batch_id=156: 100%|██████████| 157/157 [01:19<00:00,  1.98it/s]\n",
        "  0%|          | 0/469 [00:00<?, ?it/s]\n",
        "Epoch: 18 Train set: Average loss: 0.934197, Mask loss:0.875801, Depth loss:0.058396, lr:0\n",
        "Epoch: 18 Test set: Average loss: 0.941891, Mask loss:0.875193, Depth loss:0.066697\n",
        "loss=0.939991 m_loss=0.882428 d_loss=0.057563 batch_id=468: 100%|██████████| 469/469 [04:54<00:00,  1.59it/s]\n",
        "loss=0.916505 m_loss=0.854386 d_loss=0.062118 batch_id=156: 100%|██████████| 157/157 [01:16<00:00,  2.05it/s]\n",
        "  0%|          | 0/469 [00:00<?, ?it/s]\n",
        "Epoch: 19 Train set: Average loss: 0.933777, Mask loss:0.875735, Depth loss:0.058043, lr:0\n",
        "Epoch: 19 Test set: Average loss: 0.942204, Mask loss:0.875478, Depth loss:0.066725\n",
        "loss=0.940029 m_loss=0.882866 d_loss=0.057164 batch_id=468: 100%|██████████| 469/469 [04:54<00:00,  1.59it/s]\n",
        "loss=0.916602 m_loss=0.854454 d_loss=0.062148 batch_id=156: 100%|██████████| 157/157 [01:18<00:00,  2.01it/s]\n",
        "\n",
        "Epoch: 20 Train set: Average loss: 0.933497, Mask loss:0.875792, Depth loss:0.057705, lr:0\n",
        "Epoch: 20 Test set: Average loss: 0.942303, Mask loss:0.875548, Depth loss:0.066754\n",
        "Final model save path: /content/drive/My Drive/EVA4/model_saves/model-2826169092.h5  best loss: 0.9416513625223926\n",
        "```\n"
      ]
    },
    {
      "cell_type": "markdown",
      "metadata": {
        "id": "g8bJiZ0SAjf2",
        "colab_type": "text"
      },
      "source": [
        "## Model evaluation"
      ]
    },
    {
      "cell_type": "code",
      "metadata": {
        "id": "dUGjAVmPE5pk",
        "colab_type": "code",
        "colab": {}
      },
      "source": [
        "device = torch.device(\"cuda\" if not hyperparams.hyperparameter_defaults['no_cuda'] else \"cpu\")\n",
        "model_new  =mmdmodels.UNet(n_channels=6, n_classes=2)\n",
        "\n",
        "expand_model  =mmdmodels.CustomUNet(model_new,n_channels=6, n_classes=2)\n",
        "\n",
        "expand_model = mmdtraintest.load_model_for_infer(expand_model, \n",
        "                                  '/content/drive/My Drive/EVA4/model_saves/model-2826169092.h5',\n",
        "                                  device)"
      ],
      "execution_count": 0,
      "outputs": []
    },
    {
      "cell_type": "code",
      "metadata": {
        "id": "58mGj8_7exsK",
        "colab_type": "code",
        "colab": {}
      },
      "source": [
        ""
      ],
      "execution_count": 0,
      "outputs": []
    },
    {
      "cell_type": "code",
      "metadata": {
        "id": "AO1WzhtS4W2n",
        "colab_type": "code",
        "outputId": "936705c8-a365-4730-e7ec-8b114448f1e9",
        "colab": {
          "base_uri": "https://localhost:8080/",
          "height": 0
        }
      },
      "source": [
        "######## OCP \n",
        "from RekogNizer import mmdmodels\n",
        "device = torch.device(\"cuda\" if not hyperparams.hyperparameter_defaults['no_cuda'] else \"cpu\")\n",
        "tqdm._instances.clear()\n",
        "hyperparams.set_hyperparam({\"epochs\":10})\n",
        "\n",
        "print(\"Initializing datasets and dataloaders\")    \n",
        "\n",
        "\n",
        "criterion={\"mask\":[mmdlosses.dice_loss, mmdlosses.LocalL1Loss], \n",
        "           \"depth\":[mmdlosses.LocalRMSELoss, mmdlosses.LocalSSIMLoss]}\n",
        "\n",
        "epoch_test_loss,epoch_test_mask_loss,epoch_test_depth_loss = mmdtraintest.test_batch(expand_model, device, test_loader, criterion)\n"
      ],
      "execution_count": 42,
      "outputs": [
        {
          "output_type": "stream",
          "text": [
            "\r  0%|          | 0/1800 [00:00<?, ?it/s]"
          ],
          "name": "stderr"
        },
        {
          "output_type": "stream",
          "text": [
            "Initializing datasets and dataloaders\n"
          ],
          "name": "stdout"
        },
        {
          "output_type": "stream",
          "text": [
            "loss=0.926169 m_loss=0.866882 d_loss=0.059287 batch_id=1799: 100%|██████████| 1800/1800 [15:08<00:00,  1.98it/s]\n"
          ],
          "name": "stderr"
        }
      ]
    },
    {
      "cell_type": "code",
      "metadata": {
        "id": "wh-xSjtbOShn",
        "colab_type": "code",
        "colab": {
          "base_uri": "https://localhost:8080/",
          "height": 67
        },
        "outputId": "65911a0b-ffb5-401d-e765-f5290ff21125"
      },
      "source": [
        "print(\" Overall Loss:{:.8f}\\n Overall Mask Loss:{:.8f}\\n Overall Depth Loss:{:.8f}\".format(epoch_test_loss,epoch_test_mask_loss,epoch_test_depth_loss))"
      ],
      "execution_count": 44,
      "outputs": [
        {
          "output_type": "stream",
          "text": [
            " Overall Loss:0.94152086\n",
            " Overall Mask Loss:0.87551310\n",
            " Overall Depth Loss:0.06600758\n"
          ],
          "name": "stdout"
        }
      ]
    },
    {
      "cell_type": "code",
      "metadata": {
        "id": "E15yIgd0mwPc",
        "colab_type": "code",
        "outputId": "c7451d0e-ea57-4020-a9ca-918f50425c47",
        "colab": {
          "base_uri": "https://localhost:8080/",
          "height": 1000
        }
      },
      "source": [
        "mmdtraintest.display_samples_new(expand_model, test_loader, device)"
      ],
      "execution_count": 45,
      "outputs": [
        {
          "output_type": "display_data",
          "data": {
            "image/png": "[encoded data removed]",
            "text/plain": [
              "<Figure size 720x720 with 1 Axes>"
            ]
          },
          "metadata": {
            "tags": [],
            "needs_background": "light"
          }
        },
        {
          "output_type": "display_data",
          "data": {
            "image/png": "[encoded data removed]",
            "text/plain": [
              "<Figure size 720x720 with 1 Axes>"
            ]
          },
          "metadata": {
            "tags": [],
            "needs_background": "light"
          }
        },
        {
          "output_type": "display_data",
          "data": {
            "image/png": "[encoded data removed]",
            "text/plain": [
              "<Figure size 720x720 with 1 Axes>"
            ]
          },
          "metadata": {
            "tags": [],
            "needs_background": "light"
          }
        },
        {
          "output_type": "display_data",
          "data": {
            "image/png": "[encoded data removed]",
            "text/plain": [
              "<Figure size 720x720 with 1 Axes>"
            ]
          },
          "metadata": {
            "tags": [],
            "needs_background": "light"
          }
        },
        {
          "output_type": "display_data",
          "data": {
            "image/png": "[encoded data removed]",
            "text/plain": [
              "<Figure size 720x720 with 1 Axes>"
            ]
          },
          "metadata": {
            "tags": [],
            "needs_background": "light"
          }
        },
        {
          "output_type": "display_data",
          "data": {
            "image/png": "[encoded data removed]",
            "text/plain": [
              "<Figure size 720x720 with 1 Axes>"
            ]
          },
          "metadata": {
            "tags": [],
            "needs_background": "light"
          }
        }
      ]
    }
  ]
}